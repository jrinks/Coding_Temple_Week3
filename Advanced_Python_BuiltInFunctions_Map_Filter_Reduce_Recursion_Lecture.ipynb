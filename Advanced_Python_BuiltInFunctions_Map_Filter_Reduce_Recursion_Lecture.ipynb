{
 "cells": [
  {
   "cell_type": "markdown",
   "metadata": {
    "id": "D1sacHCckCfT"
   },
   "source": [
    "# Map, Filter, Reduce, Lambda & Recursion"
   ]
  },
  {
   "cell_type": "markdown",
   "metadata": {
    "id": "QH1JxNf_kCfc"
   },
   "source": [
    "## Tasks Today:\n",
    "\n",
    "1) <b>Lambda Functions</b> <br>\n",
    " &nbsp;&nbsp;&nbsp;&nbsp; a) Syntax <br>\n",
    " &nbsp;&nbsp;&nbsp;&nbsp; b) Saving to a Variable <br>\n",
    " &nbsp;&nbsp;&nbsp;&nbsp; c) Multiple Inputs <br>\n",
    " &nbsp;&nbsp;&nbsp;&nbsp; d) Passing a Lambda into a Function <br>\n",
    " &nbsp;&nbsp;&nbsp;&nbsp; e) Returning a Lambda from a Function <br>\n",
    " &nbsp;&nbsp;&nbsp;&nbsp; f) In-Class Exercise #1 <br>\n",
    "2) <b>Map</b> <br>\n",
    " &nbsp;&nbsp;&nbsp;&nbsp; a) Syntax <br>\n",
    " &nbsp;&nbsp;&nbsp;&nbsp; b) Using Lambda's with Map <br>\n",
    " &nbsp;&nbsp;&nbsp;&nbsp; c) In-Class Exercise #2 <br>\n",
    "3) <b>Filter</b> <br>\n",
    " &nbsp;&nbsp;&nbsp;&nbsp; a) Syntax <br>\n",
    " &nbsp;&nbsp;&nbsp;&nbsp; b) Using Lambda's with Filter <br>\n",
    " &nbsp;&nbsp;&nbsp;&nbsp; c) In-Class Exercise #3 <br>\n",
    "4) <b>Reduce</b> <br>\n",
    " &nbsp;&nbsp;&nbsp;&nbsp; a) Syntax <br>\n",
    " &nbsp;&nbsp;&nbsp;&nbsp; b) Using Lambda's with Reduce <br>\n",
    " &nbsp;&nbsp;&nbsp;&nbsp; c) In-Class Exercise #4 <br>\n",
    "5) <b>Recursion</b> <br>\n",
    " &nbsp;&nbsp;&nbsp;&nbsp; a) Implementing a Base <br>\n",
    " &nbsp;&nbsp;&nbsp;&nbsp; b) Writing a Factorial Function <br>\n",
    " &nbsp;&nbsp;&nbsp;&nbsp; c) In-Class Exercise #5 <br>\n",
    "6) <b>Generators & Iterators</b> <br>\n",
    " &nbsp;&nbsp;&nbsp;&nbsp; a) Yield Keyword <br>\n",
    " &nbsp;&nbsp;&nbsp;&nbsp; b) Inifinite Generator <br>\n",
    " &nbsp;&nbsp;&nbsp;&nbsp; c) In-Class Exercise #6 <br>\n",
    "7) <b>Exercises</b> <br>\n",
    " &nbsp;&nbsp;&nbsp;&nbsp; a) Exercise #1 - Filtering Empty Strings <br>\n",
    " &nbsp;&nbsp;&nbsp;&nbsp; b) Exercise #2 - Sorting with Last Name <br>\n",
    " &nbsp;&nbsp;&nbsp;&nbsp; c) Exercise #3 - Conversion to Farhenheit <br>\n",
    " &nbsp;&nbsp;&nbsp;&nbsp; d) Exercise #4 - Fibonacci Sequence <br>"
   ]
  },
  {
   "cell_type": "markdown",
   "metadata": {
    "id": "WfTj2KsdkCff"
   },
   "source": [
    "## Lambda Functions <br>\n",
    "<p>Lambda functions... or \"Anonymous Functions\" are referring to inline functions with no name. The keyword lambda denotes the no name function, and executes within a single line. Without saving it to a variable; however, it is not able to be used, unless passed in either as a paramater or within list comprehension.<br>Written as \"(keyword lambda) (one or more inputs) (colon) (function to be executed)\"</p>"
   ]
  },
  {
   "cell_type": "markdown",
   "metadata": {
    "id": "TxEx1PO_kCfh"
   },
   "source": [
    "#### Syntax"
   ]
  },
  {
   "cell_type": "code",
   "execution_count": 3,
   "metadata": {
    "id": "-1i5Q0TVkCfi"
   },
   "outputs": [
    {
     "name": "stdout",
     "output_type": "stream",
     "text": [
      "6\n",
      "6\n"
     ]
    }
   ],
   "source": [
    "# an inline function with no name\n",
    "# instead of def we use lambda keyword\n",
    "# exicutes in the same line, does not save to variable\n",
    "# can't use it again unless you save it to a variable or something\n",
    "#syntax\n",
    "\n",
    "#lambda(inputs):function \n",
    "\n",
    "def add_two(x):\n",
    "    return x+2\n",
    "\n",
    "print(add_two(4))\n",
    "\n",
    "# how we'd do this with lamda function\n",
    "\n",
    "print((lambda x: x+2)(4))"
   ]
  },
  {
   "cell_type": "markdown",
   "metadata": {
    "id": "5EHJNjNkkCfj"
   },
   "source": [
    "#### Saving to a Variable"
   ]
  },
  {
   "cell_type": "code",
   "execution_count": 5,
   "metadata": {
    "id": "ahcBGtwxkCfj"
   },
   "outputs": [
    {
     "name": "stdout",
     "output_type": "stream",
     "text": [
      "<function <lambda> at 0x000001CAAFD851F0>\n"
     ]
    },
    {
     "data": {
      "text/plain": [
       "6"
      ]
     },
     "execution_count": 5,
     "metadata": {},
     "output_type": "execute_result"
    }
   ],
   "source": [
    "add_two_lambda = lambda x: x+2\n",
    "print(add_two_lambda)\n",
    "add_two_lambda(4)"
   ]
  },
  {
   "cell_type": "code",
   "execution_count": 125,
   "metadata": {},
   "outputs": [
    {
     "data": {
      "text/plain": [
       "9"
      ]
     },
     "execution_count": 125,
     "metadata": {},
     "output_type": "execute_result"
    }
   ],
   "source": [
    "#1. Write a Python program to create a lambda function \n",
    "#that adds 15 to a given number passed in as an argument,\n",
    "# also create a lambda function that multiplies argument \n",
    "# x with argument y and print the result. \n",
    "\n",
    "add_fifteen_lambda = lambda x: x+15\n",
    "add_fifteen_lambda(15)\n",
    "\n",
    "multiply_lambda = lambda x,y: x*y\n",
    "multiply_lambda(3,3)"
   ]
  },
  {
   "cell_type": "code",
   "execution_count": 130,
   "metadata": {},
   "outputs": [
    {
     "name": "stdout",
     "output_type": "stream",
     "text": [
      "30\n",
      "45\n",
      "60\n",
      "75\n"
     ]
    }
   ],
   "source": [
    "# Write a Python program to create a function that takes \n",
    "# one argument, and that argument will be multiplied with \n",
    "# an unknown given number. \n",
    "# Double the number of 15 = 30\n",
    "# Triple the number of 15 = 45\n",
    "# Quadruple the number of 15 = 60\n",
    "# Quintuple the number 15 = 75\n",
    "\n",
    "unknown_lambda = lambda x,y: x*y\n",
    "print(unknown_lambda(15,2))\n",
    "print(unknown_lambda(15,3))\n",
    "print(unknown_lambda(15,4))\n",
    "print(unknown_lambda(15,5))"
   ]
  },
  {
   "cell_type": "code",
   "execution_count": 141,
   "metadata": {},
   "outputs": [
    {
     "name": "stdout",
     "output_type": "stream",
     "text": [
      "[('Social sciences', 82), ('English', 88), ('Science', 90), ('Maths', 97)]\n"
     ]
    }
   ],
   "source": [
    "# Write a Python program \n",
    "# to sort a list of tuples using Lambda.\n",
    "# Original list of tuples:\n",
    "subjects = [('English', 88), ('Science', 90), ('Maths', 97), ('Social sciences', 82)]\n",
    "\n",
    "\n",
    "def sort_lambda(list): \n",
    "    list.sort(key=lambda list: list[1])\n",
    "    print(subjects)\n",
    "    \n",
    "sort_lambda(subjects)\n"
   ]
  },
  {
   "cell_type": "markdown",
   "metadata": {
    "id": "HijwfUpbkCfk"
   },
   "source": [
    "#### Multiple Inputs"
   ]
  },
  {
   "cell_type": "code",
   "execution_count": 8,
   "metadata": {
    "id": "UqjsVuV9kCfl"
   },
   "outputs": [
    {
     "name": "stdout",
     "output_type": "stream",
     "text": [
      "162\n",
      "162\n",
      "162\n"
     ]
    }
   ],
   "source": [
    "# multiple inputs with no variable\n",
    "print((lambda x, y, z: x*y**z)(2,3,4))\n",
    "# you can also assign as keyword arguments\n",
    "print((lambda x =2, y=3, z=4: x*y**z)(2,3,4))\n",
    "# you can have multiple inputs with a variable\n",
    "x_multiple = lambda x, y, z: x*y**z\n",
    "print(x_multiple(2,3,4))"
   ]
  },
  {
   "cell_type": "markdown",
   "metadata": {
    "id": "YWVFBh_dkCfl"
   },
   "source": [
    "#### Passing a Lambda into a Function"
   ]
  },
  {
   "cell_type": "code",
   "execution_count": 10,
   "metadata": {
    "id": "EeNKiNhkkCfm"
   },
   "outputs": [
    {
     "name": "stdout",
     "output_type": "stream",
     "text": [
      "16\n"
     ]
    }
   ],
   "source": [
    "# pass a lambda function into another function\n",
    "def multiply(f, num):\n",
    "    '''f is a lambda function, num is a number'''\n",
    "    return f(num)\n",
    "\n",
    "print(multiply(lambda x: x*x, 4))"
   ]
  },
  {
   "cell_type": "markdown",
   "metadata": {
    "id": "H9SMjDknkCfo"
   },
   "source": [
    "#### Returning a Lambda from a Function"
   ]
  },
  {
   "cell_type": "code",
   "execution_count": 18,
   "metadata": {
    "id": "9SInZimukCfo"
   },
   "outputs": [
    {
     "name": "stdout",
     "output_type": "stream",
     "text": [
      "<function return_func at 0x000001CAAFCD3280>\n",
      "16\n",
      "<function return_lam.<locals>.<lambda> at 0x000001CAAFE330D0>\n",
      "70\n"
     ]
    }
   ],
   "source": [
    "# return a lambda function via another function\n",
    "def multiply_test(num):\n",
    "    return num *4\n",
    "\n",
    "def return_func():\n",
    "    test = 4\n",
    "    def multiply_test_two(num):\n",
    "        return num *test\n",
    "    return multiply_test_two\n",
    "\n",
    "print(return_func)\n",
    "# multiply_test_two function only exists within the return_func function\n",
    "\n",
    "f_return = return_func()\n",
    "print(f_return(4))\n",
    "\n",
    "def return_lam(b,c):\n",
    "    return lambda x, a: x + a + b + c\n",
    "\n",
    "r_lam = return_lam(10, 20)\n",
    "print(r_lam)\n",
    "r_lamb = return_lam(20,20)\n",
    "print(r_lamb(5, 25))"
   ]
  },
  {
   "cell_type": "markdown",
   "metadata": {
    "id": "xEqJILjHkCfp"
   },
   "source": [
    "#### If Statements within Lambdas"
   ]
  },
  {
   "cell_type": "code",
   "execution_count": 20,
   "metadata": {
    "id": "IExaUQ3skCfp"
   },
   "outputs": [
    {
     "name": "stdout",
     "output_type": "stream",
     "text": [
      "64\n",
      "100\n",
      "24\n"
     ]
    }
   ],
   "source": [
    "# you can put ifs within your lambda\n",
    "# syntas  lambda input: true: expression if condition else false expression\n",
    "f_condition = lambda num: num *2 if num >10 else num**2\n",
    "print(f_condition(8))\n",
    "print(f_condition(10))\n",
    "print(f_condition(12))\n",
    "\n"
   ]
  },
  {
   "cell_type": "markdown",
   "metadata": {
    "id": "2sQxe5jPkCfp"
   },
   "source": [
    "#### In-Class Exercise #1 <br>\n",
    "<p>Write an anonymous function that cubes the arguments passed in and assign the anonymous function to a variable 'f'.</p>"
   ]
  },
  {
   "cell_type": "code",
   "execution_count": 24,
   "metadata": {
    "id": "MfEhS1GCkCfq"
   },
   "outputs": [
    {
     "name": "stdout",
     "output_type": "stream",
     "text": [
      "<function <lambda> at 0x000001CAAFCD31F0>\n",
      "27\n",
      "1\n"
     ]
    }
   ],
   "source": [
    "f = lambda x: x**3\n",
    "print(lambda x: x**3)\n",
    "print(f(3))\n",
    "print(f(1))"
   ]
  },
  {
   "cell_type": "markdown",
   "metadata": {
    "id": "jwkhKl06kCfq"
   },
   "source": [
    "## Map <br>\n",
    "<p>The map function allows you to iterate over an entire list while running a function on each item of the list. This is why the map function works well with lambda's, because it simplifies things and you write less lines of code.<br>The syntax for a map function is \"map(function to be used, list to be used)\"<br>However, you must be careful, as the map function returns a map object, not a list. To turn it into a list we use the list() type conversion.</p>"
   ]
  },
  {
   "cell_type": "markdown",
   "metadata": {
    "id": "8-0Z8ikVkCfq"
   },
   "source": [
    "#### Syntax"
   ]
  },
  {
   "cell_type": "code",
   "execution_count": 31,
   "metadata": {
    "id": "Otaa6v7wkCfr"
   },
   "outputs": [
    {
     "data": {
      "text/plain": [
       "[(16, 16), (11, 13), (20, 2), (3, 35), (15, 15), (7, 17), (9, 19)]"
      ]
     },
     "execution_count": 31,
     "metadata": {},
     "output_type": "execute_result"
    }
   ],
   "source": [
    "# map is a built in function\n",
    "# iterate over a list and perform a function on each item\n",
    "# returns map object use lst() to convert it to a list\n",
    "# syntax:    map(function(list, dict, tuple, set, string))\n",
    "\n",
    "#normally you'd use map on a pre-defined function but you can use it with lambdas too\n",
    "\n",
    "def squared(num, num2): \n",
    "    if num <10 and num2 <10:\n",
    "         return num **2, num2 **2\n",
    "    else:\n",
    "        return num, num2\n",
    "    \n",
    "numbers =[4, 11, 20, 3, 15, 7, 9]\n",
    "numbers2 = [4, 13, 2, 35, 15, 17, 19]\n",
    "list(map(squared, numbers, numbers2))"
   ]
  },
  {
   "cell_type": "markdown",
   "metadata": {
    "id": "8d9MRHlRkCfr"
   },
   "source": [
    "#### Using Lambda's with Map"
   ]
  },
  {
   "cell_type": "code",
   "execution_count": 34,
   "metadata": {
    "id": "r4Jme55XkCfs"
   },
   "outputs": [
    {
     "name": "stdout",
     "output_type": "stream",
     "text": [
      "[16, 121, 400, 9, 225, 49, 81]\n"
     ]
    }
   ],
   "source": [
    "# pass in a lambda function into map\n",
    "# benefit of using lambda with map is that it all happens in one line\n",
    "\n",
    "squared_nums_lam = list(map(lambda num: num**2, numbers))\n",
    "\n",
    "numbers =[4, 11, 20, 3, 15, 7, 9]\n",
    "numbers2 = [4, 13, 2, 35, 15, 17, 19]\n",
    "\n",
    "print(squared_nums_lam)"
   ]
  },
  {
   "cell_type": "markdown",
   "metadata": {
    "id": "xX9OUlQckCfs"
   },
   "source": [
    "\n",
    "\n",
    "#### In-Class Exercise #2 <br>\n",
    "<p>Use the map function to double each number and minus it by one in the list by using a lambda function</p>"
   ]
  },
  {
   "cell_type": "code",
   "execution_count": 49,
   "metadata": {
    "id": "uX8aFrNrkCfs"
   },
   "outputs": [
    {
     "name": "stdout",
     "output_type": "stream",
     "text": [
      "[7, 21, 39, 5, 29, 13, 17]\n"
     ]
    }
   ],
   "source": [
    "\n",
    "numbers =[4, 11, 20, 3, 15, 7, 9]\n",
    "numbers2 = [4, 13, 2, 35, 15, 17, 19]\n",
    "\n",
    "divide_nums = list(map(lambda num: num*2-1, numbers))\n",
    "\n",
    "# variable name = list(map(lambda item: calculations, iterable item))\n",
    "\n",
    "print(divide_nums)"
   ]
  },
  {
   "cell_type": "markdown",
   "metadata": {
    "id": "pvXebGlDkCft"
   },
   "source": [
    "## Filter() <br>\n",
    "<p>Filter's are similar to the map function, where you're able to pass a function argument and a list argument and filter out something from the list based on the conditions passed. Similar to the map function, it returns a filter object, so you need to type convert it to a list()</p>"
   ]
  },
  {
   "cell_type": "markdown",
   "metadata": {
    "id": "w07hoYUYkCft"
   },
   "source": [
    "#### Syntax"
   ]
  },
  {
   "cell_type": "code",
   "execution_count": 54,
   "metadata": {
    "id": "hJD59DPDkCfu"
   },
   "outputs": [
    {
     "name": "stdout",
     "output_type": "stream",
     "text": [
      "[False, True, False, False, False, False]\n",
      "['Andy']\n"
     ]
    }
   ],
   "source": [
    "# returns filter object\n",
    "names = [\"Bob\", \"Andy\", \"Snagmo\", \"Yasmin\", \"monique\", \"nick\"]\n",
    "def a_names(name):\n",
    "    if name[0].lower() == \"a\":\n",
    "        return True\n",
    "    else:\n",
    "        return False\n",
    "\n",
    "# iterate using map \n",
    "a_names_list_map = list(map(a_names, names))\n",
    "print(a_names_list_map)\n",
    "\n",
    "# iterate and filter using filer\n",
    "# and return values that are True\n",
    "# filter filters for truthiness\n",
    "a_names_filter = list(filter(a_names, names))\n",
    "print(a_names_filter)"
   ]
  },
  {
   "cell_type": "markdown",
   "metadata": {
    "id": "dkHhIWoskCfu"
   },
   "source": [
    "#### Using Lambda's with Filter()"
   ]
  },
  {
   "cell_type": "code",
   "execution_count": 60,
   "metadata": {
    "id": "LKrKuYaMkCfu"
   },
   "outputs": [
    {
     "ename": "SyntaxError",
     "evalue": "invalid syntax (<ipython-input-60-0328d339cbdd>, line 1)",
     "output_type": "error",
     "traceback": [
      "\u001b[1;36m  File \u001b[1;32m\"<ipython-input-60-0328d339cbdd>\"\u001b[1;36m, line \u001b[1;32m1\u001b[0m\n\u001b[1;33m    new_a_list = list(filter(lambda name: True if name[0].lower() == 'a' names))\u001b[0m\n\u001b[1;37m                                                                         ^\u001b[0m\n\u001b[1;31mSyntaxError\u001b[0m\u001b[1;31m:\u001b[0m invalid syntax\n"
     ]
    }
   ],
   "source": [
    "new_a_list = list(filter(lambda name: True if name[0].lower() == 'a' names))\n",
    "print(new_a_list)\n",
    "            "
   ]
  },
  {
   "cell_type": "markdown",
   "metadata": {
    "id": "nPHmfVWfkCfu"
   },
   "source": [
    "#### In-Class Exercise #3 <br>\n",
    "<p>Filter out all the numbers that are below the mean of the list.<br><b>Hint: Import the 'statistics' module</b></p>"
   ]
  },
  {
   "cell_type": "code",
   "execution_count": 74,
   "metadata": {
    "id": "tURNX45rkCfv"
   },
   "outputs": [
    {
     "name": "stdout",
     "output_type": "stream",
     "text": [
      "141.77777777777777\n",
      "[324, 643]\n",
      "[324, 643]\n"
     ]
    }
   ],
   "source": [
    "from statistics import mean\n",
    "\n",
    "# regular function solution\n",
    "nums = [5, 324, 45, 23, 77, 23, 124, 643, 12]\n",
    "print(mean(nums))\n",
    "\n",
    "avg = mean(nums)\n",
    "\n",
    "def mean_test(num):\n",
    "    if num > avg:\n",
    "        return True\n",
    "    else:\n",
    "        return False\n",
    "\n",
    "above_mean = list(filter(mean_test, nums))\n",
    "print(above_mean)        \n",
    "\n",
    "\n",
    "# the lambda method\n",
    "\n",
    "above_means_lamba = list(filter(lambda num: num > mean(nums), nums))\n",
    "print(above_means_lamba)"
   ]
  },
  {
   "cell_type": "markdown",
   "metadata": {
    "id": "dBJdiqrmkCfv"
   },
   "source": [
    "## Reduce() <br>\n",
    "<p>Be very careful when using this function, as of Python 3 it's been moved to the 'functools' library and no longer is a built-in function.<br>The creator of Python himself, says to just use a for loop instead.</p>"
   ]
  },
  {
   "cell_type": "markdown",
   "metadata": {
    "id": "yp6g76Y1kCfw"
   },
   "source": [
    "#### Syntax"
   ]
  },
  {
   "cell_type": "code",
   "execution_count": 84,
   "metadata": {
    "id": "2pKSHNFhkCfw"
   },
   "outputs": [
    {
     "name": "stdout",
     "output_type": "stream",
     "text": [
      "30\n",
      "30\n",
      "3840\n"
     ]
    }
   ],
   "source": [
    "# been removed from built in python functions\n",
    "# so if you want to use it you have to import it\n",
    "from functools import reduce\n",
    "# syntax  reduct(function, iterable)\n",
    "\n",
    "list_1 = [2, 4, 6, 8, 10]\n",
    "         \n",
    "def add_nums(num1, num2):\n",
    "    return num1 + num2\n",
    "\n",
    "result_reduce = reduce(add_nums, list_1)\n",
    "print(result_reduce)\n",
    "\n",
    "# this is what the reduce funciton is actually doing\n",
    "#2 +4=6\n",
    "#6+6 = 12\n",
    "#12+8=20\n",
    "#20+10=30\n",
    "\n",
    "# here's how you do it with a for loop\n",
    "sum = 0\n",
    "for num in list_1:\n",
    "    sum +=num\n",
    "print(sum)\n",
    "\n",
    "def mult_nums(num1, num2):\n",
    "    return num1 *num2\n",
    "prod_reduce = reduce(mult_nums, list_1)\n",
    "print(prod_reduce)"
   ]
  },
  {
   "cell_type": "markdown",
   "metadata": {
    "id": "l4rhFCWbkCfx"
   },
   "source": [
    "#### Using Lambda's with Reduce()"
   ]
  },
  {
   "cell_type": "code",
   "execution_count": 85,
   "metadata": {
    "id": "OkstIh4qkCfy"
   },
   "outputs": [
    {
     "name": "stdout",
     "output_type": "stream",
     "text": [
      "30\n"
     ]
    }
   ],
   "source": [
    "results_lam = reduce(lambda x,y: x+y, list_1)\n",
    "print(results_lam)"
   ]
  },
  {
   "cell_type": "markdown",
   "metadata": {
    "id": "U50y_7zRkCfy"
   },
   "source": [
    "#### In-Class Exercise #4 <br>\n",
    "<p>Use the reduce function to multiply the numbers in the list below together with a lambda function.</p>"
   ]
  },
  {
   "cell_type": "code",
   "execution_count": 89,
   "metadata": {
    "id": "j0xMBP32kCfy"
   },
   "outputs": [
    {
     "name": "stdout",
     "output_type": "stream",
     "text": [
      "24\n",
      "10\n",
      "-8\n"
     ]
    }
   ],
   "source": [
    "list_2 = [1, 2, 3, 4]\n",
    "\n",
    "reduce_lambda_2 = reduce(lambda x,y: x*y, list_2)\n",
    "print(reduce_lambda_2)\n",
    "\n",
    "reduce_lambda_3 =  reduce(lambda x,y: x+y , list_2)\n",
    "print(reduce_lambda_3)\n",
    "\n",
    "reduce_lambda_4 = reduce(lambda x,y: x-y, list_2)\n",
    "print(reduce_lambda_4)"
   ]
  },
  {
   "cell_type": "markdown",
   "metadata": {
    "id": "BNRlcJFBkCfy"
   },
   "source": [
    "## Recursion <br>\n",
    "<p>Recursion means that a function is calling itself, so it contanstly executes until a base case is reached. It will then push the returning values back up the chain until the function is complete. A prime example of recursion is computing factorials... such that 5! (factorial) is 5*4*3*2*1 which equals 120.</p>"
   ]
  },
  {
   "cell_type": "markdown",
   "metadata": {
    "id": "AntzbXNgkCfz"
   },
   "source": [
    "#### Implementing a Base Case"
   ]
  },
  {
   "cell_type": "code",
   "execution_count": 94,
   "metadata": {
    "id": "7uWeSVlwkCfz"
   },
   "outputs": [
    {
     "name": "stdout",
     "output_type": "stream",
     "text": [
      "add_nums(5) = 5 + add_nums(4)\n",
      "add_nums(4) = 4 + add_nums(3)\n",
      "add_nums(3) = 3 + add_nums(2)\n",
      "add_nums(2) = 2 + add_nums(1)\n",
      "add_nums(1) = 1\n"
     ]
    },
    {
     "data": {
      "text/plain": [
       "15"
      ]
     },
     "execution_count": 94,
     "metadata": {},
     "output_type": "execute_result"
    }
   ],
   "source": [
    "# a recursive function continues to exicute until base case is reached\n",
    "\n",
    "def add_nums(num):\n",
    "#     Set a base case for recursive function\n",
    "    if num <= 1:\n",
    "        print(\"add_nums(1) = 1\")\n",
    "        return num\n",
    "#     Recursive call\n",
    "    else:\n",
    "        print(f\"add_nums({num}) = {num} + add_nums({num-1})\")\n",
    "        return num + add_nums(num-1)\n",
    "        \n",
    "add_nums(5)\n",
    "     \n",
    "    "
   ]
  },
  {
   "cell_type": "markdown",
   "metadata": {
    "id": "c7iuvrULkCfz"
   },
   "source": [
    "#### Writing a Factorial Function"
   ]
  },
  {
   "cell_type": "code",
   "execution_count": 96,
   "metadata": {
    "id": "vRPGvBW1kCf0"
   },
   "outputs": [
    {
     "data": {
      "text/plain": [
       "120"
      ]
     },
     "execution_count": 96,
     "metadata": {},
     "output_type": "execute_result"
    }
   ],
   "source": [
    "# 5! means \"five factorial\" and it equals\n",
    "#5! = 5x4!\n",
    "#4! = 4X3!\n",
    "#3! = 3x2!\n",
    "#2! = 2x1\n",
    "\n",
    "def factorial(num):\n",
    "    if num <=1:\n",
    "        return 1\n",
    "    else:\n",
    "        return num * factorial(num-1)\n",
    "\n",
    "factorial(5)\n",
    "\n",
    "# but this function would time out if we tried to calculate a big number\n",
    "# such as factorial(5000)\n",
    "# recursion takes up A TON OF MEMORY\n",
    "# so you may want to use generators instead of recursion to avoid memory problesm\n"
   ]
  },
  {
   "cell_type": "markdown",
   "metadata": {
    "id": "GdGn0SR3kCf0"
   },
   "source": [
    "#### In-Class Exercise #5 <br>\n",
    "<p>Write a recursive function that subtracts all numbers to the argument given.</p>"
   ]
  },
  {
   "cell_type": "code",
   "execution_count": 105,
   "metadata": {
    "id": "aUkOvQdvkCf0"
   },
   "outputs": [
    {
     "name": "stdout",
     "output_type": "stream",
     "text": [
      "sub nums(10 = 10 - sub_nums10\n",
      "sub nums(9 = 9 - sub_nums9\n",
      "sub nums(8 = 8 - sub_nums8\n",
      "sub nums(7 = 7 - sub_nums7\n",
      "sub nums(6 = 6 - sub_nums6\n",
      "sub nums(5 = 5 - sub_nums5\n",
      "sub nums(4 = 4 - sub_nums4\n",
      "sub nums(3 = 3 - sub_nums3\n",
      "sub nums(2 = 2 - sub_nums2\n",
      "sub_nums(1) = 1\n"
     ]
    },
    {
     "data": {
      "text/plain": [
       "5"
      ]
     },
     "execution_count": 105,
     "metadata": {},
     "output_type": "execute_result"
    }
   ],
   "source": [
    "\n",
    "def subnums(num):\n",
    "        if num <=1:\n",
    "            print(\"sub_nums(1) = 1\")\n",
    "            return num\n",
    "        else:\n",
    "            print(f\"sub nums({num} = {num} - sub_nums{num}\")\n",
    "            return num - subnums(num-1)\n",
    "    \n",
    "subnums(10)"
   ]
  },
  {
   "cell_type": "markdown",
   "metadata": {
    "id": "ARVi-zx7kCf1"
   },
   "source": [
    "## Generators <br>\n",
    "<p>Generators are a type of iterable, like lists or tuples. They do not allow indexing, but they can still be iterated through with for loops. They are created using functions and the yield statement.</p>"
   ]
  },
  {
   "cell_type": "markdown",
   "metadata": {
    "id": "1roWQgLzkCf1"
   },
   "source": [
    "#### Yield Keyword <br>\n",
    "<p>The yield keyword denotes a generator, it doesn't return so it won't leave the function and reset all variables in the function scope, instead it yields the number back to the caller.</p>"
   ]
  },
  {
   "cell_type": "code",
   "execution_count": 109,
   "metadata": {
    "id": "XsWPBBRYkCf1"
   },
   "outputs": [
    {
     "name": "stdout",
     "output_type": "stream",
     "text": [
      "0\n",
      "1\n",
      "2\n",
      "3\n",
      "4\n",
      "5\n",
      "6\n",
      "7\n",
      "8\n",
      "9\n",
      "[0, 1, 2, 3, 4, 5, 6, 7, 8, 9]\n"
     ]
    }
   ],
   "source": [
    "# a generator object is a type of object like a list or tuple\n",
    "# you can iterate thru a generator object, but you cannot index it\n",
    "# you create them using a function with the yeild word in it\n",
    "# its similar to return, but yeild gives the result back to the calling funcion\n",
    "# on each iteration\n",
    "\n",
    "def my_range(stop, start=0, step=1):\n",
    "    while start < stop: \n",
    "        yield start\n",
    "        # unlike return, yield keeps going thru the function whereas return would stop\n",
    "        start +=1\n",
    "\n",
    "my_range(10)\n",
    "# returns a generator object\n",
    "\n",
    "for i in my_range(10):\n",
    "    print(i)\n",
    "    \n",
    "# but you can cast it into a list\n",
    "print(list(my_range(10)))\n",
    "\n",
    "# generators are faster than other types of iterating such as a loop\n",
    "# because of the way they store things in RAM"
   ]
  },
  {
   "cell_type": "markdown",
   "metadata": {
    "id": "nuw0tSXTkCf1"
   },
   "source": [
    "#### Infinite Generator"
   ]
  },
  {
   "cell_type": "code",
   "execution_count": null,
   "metadata": {
    "id": "xwaLrblCkCf2"
   },
   "outputs": [],
   "source": [
    "# bad, never create infinite loops"
   ]
  },
  {
   "cell_type": "markdown",
   "metadata": {
    "id": "n8bCB574kCf2"
   },
   "source": [
    "#### In-Class Exercise #6 <br>\n",
    "<p>Create a generator that takes a number argument and yields that number squared, then prints each number squared until zero is reached.</p>"
   ]
  },
  {
   "cell_type": "code",
   "execution_count": null,
   "metadata": {
    "id": "ucODi0k_kCf3"
   },
   "outputs": [],
   "source": [
    "def number_squared(num):\n",
    "    while num > 0: \n",
    "        yield num**2\n",
    "        print(num **2)\n",
    "        num +=1\n",
    "for i in number_squared(10):        \n",
    "    print(i)\n",
    "    \n",
    "    "
   ]
  },
  {
   "cell_type": "markdown",
   "metadata": {
    "id": "gL2TyWDJkCf3"
   },
   "source": [
    "# Exercises"
   ]
  },
  {
   "cell_type": "markdown",
   "metadata": {
    "id": "aQmjOH7GkCf3"
   },
   "source": [
    "### Exercise #1 <br>\n",
    "<p>Filter out all of the empty strings from the list below</p>\n",
    "\n",
    "`Output: ['Argentina', 'San Diego', 'Boston', 'New York']`"
   ]
  },
  {
   "cell_type": "code",
   "execution_count": 169,
   "metadata": {
    "id": "ztZAm7UEkCf4"
   },
   "outputs": [
    {
     "name": "stdout",
     "output_type": "stream",
     "text": [
      "['Argentina', 'San Diego', 'Boston', 'New York']\n"
     ]
    }
   ],
   "source": [
    "places = [\" \",\"Argentina\", \" \", \"San Diego\",\"\",\"  \",\"\",\"Boston\",\"New York\"]\n",
    "\n",
    "def filter_empty(places):\n",
    "    for place in places:\n",
    "        if not place.strip():\n",
    "            return False\n",
    "        else:\n",
    "            return True\n",
    "        \n",
    "use_filter = list(filter(filter_empty, places))\n",
    "print(use_filter)\n",
    "\n"
   ]
  },
  {
   "cell_type": "markdown",
   "metadata": {
    "id": "E1uT_znjkCf4"
   },
   "source": [
    "### Exercise #2 <br>\n",
    "<p>Write an anonymous function that sorts this list by the last name...<br><b>Hint: Use the \".sort()\" method and access the key\"</b></p>\n",
    "\n",
    "`Output: ['Victor aNisimov', 'Gary A.J. Bernstein', 'Joel Carter', 'Andrew P. Garfield', 'David hassELHOFF']`"
   ]
  },
  {
   "cell_type": "code",
   "execution_count": 160,
   "metadata": {
    "id": "OmfRkBEXkCf4"
   },
   "outputs": [
    {
     "name": "stdout",
     "output_type": "stream",
     "text": [
      "['Victor aNisimov', 'Gary A.J. Bernstein', 'Joel Carter', 'Andrew P. Garfield', 'David hassELHOFF']\n"
     ]
    }
   ],
   "source": [
    "author = [\"Joel Carter\", \"Victor aNisimov\", \"Andrew P. Garfield\",\"David hassELHOFF\",\"Gary A.J. Bernstein\"]\n",
    "#.sort( use the key parameter that in this case will be a lambda function)\n",
    "def sort_names(list):\n",
    "    list.sort(key=lambda list: list.split()[-1].title())  \n",
    "    print(list)\n",
    "\n",
    "sort_names(author)"
   ]
  },
  {
   "cell_type": "markdown",
   "metadata": {
    "id": "Xfx2N0RBkCf4"
   },
   "source": [
    "\n",
    "### Exercise #3 <br>\n",
    "<p>Convert the list below from Celsius to Farhenheit, using the map function with a lambda...</p>\n",
    "\n",
    "`Output: [('Nashua', 89.6), ('Boston', 53.6), ('Los Angelos', 111.2), ('Miami', 84.2)]\n",
    "`"
   ]
  },
  {
   "cell_type": "code",
   "execution_count": 233,
   "metadata": {
    "id": "PfgFeR_IkCf5"
   },
   "outputs": [
    {
     "name": "stdout",
     "output_type": "stream",
     "text": [
      "32\n",
      "[89.6, 53.6, 111.2, 84.2]\n",
      "['Nashua', 'Boston', 'Los Angelos', 'Miami']\n",
      "(('Nashua', 89.6), ('Boston', 53.6), ('Los Angelos', 111.2), ('Miami', 84.2))\n"
     ]
    }
   ],
   "source": [
    "# F = (9/5)*C + 32\n",
    "places = [('Nashua',32),(\"Boston\",12),(\"Los Angelos\",44),(\"Miami\",29)]\n",
    "print((places[0])[1])\n",
    "\n",
    "f_temps= list(map(lambda place: (place[1]) *9/5+32, places))\n",
    "print(f_temps)\n",
    "cities= list(map(lambda place: (place[0]), places))\n",
    "print(cities)\n",
    "merged = tuple(zip(cities, f_temps))\n",
    "print(merged)"
   ]
  },
  {
   "cell_type": "markdown",
   "metadata": {
    "id": "tqBY8jy0kCf5"
   },
   "source": [
    "### Exercise #4 <br>\n",
    "<p>Write a recursion function to perform the fibonacci sequence up to the number passed in.</p>\n",
    "\n",
    "`Output for fib(5) => \n",
    "Iteration 0: 1\n",
    "Iteration 1: 1\n",
    "Iteration 2: 2\n",
    "Iteration 3: 3\n",
    "Iteration 4: 5\n",
    "Iteration 5: 8`"
   ]
  },
  {
   "cell_type": "code",
   "execution_count": 316,
   "metadata": {
    "id": "Z6UvCOyOkCf5",
    "scrolled": true
   },
   "outputs": [
    {
     "name": "stdout",
     "output_type": "stream",
     "text": [
      "Iteration 0: 1\n",
      "Iteration 1: 1\n",
      "Iteration 2: 2\n",
      "Iteration 3: 3\n",
      "Iteration 4: 5\n",
      "Iteration 5: 8\n"
     ]
    },
    {
     "data": {
      "text/plain": [
       "8"
      ]
     },
     "execution_count": 316,
     "metadata": {},
     "output_type": "execute_result"
    }
   ],
   "source": [
    "#f[n] = f[n-1]+f[n-2]\n",
    "\n",
    "n=5\n",
    "def fib(n):\n",
    "#Set a base case for recursive function\n",
    "    if n ==0:\n",
    "        return 1\n",
    "    if n == 1:\n",
    "        return 1\n",
    "#     Recursive call\n",
    "    else:\n",
    "        return fib(n-1) + fib(n-2)\n",
    "for i in range(0,n+1):\n",
    "    print(\"Iteration \"+str(i)+\": \" + str(fib(i)))\n",
    " \n",
    "        \n",
    "fib(5)"
   ]
  },
  {
   "cell_type": "code",
   "execution_count": null,
   "metadata": {},
   "outputs": [],
   "source": []
  },
  {
   "cell_type": "code",
   "execution_count": null,
   "metadata": {},
   "outputs": [],
   "source": []
  },
  {
   "cell_type": "code",
   "execution_count": null,
   "metadata": {},
   "outputs": [],
   "source": []
  }
 ],
 "metadata": {
  "colab": {
   "name": "Advanced_Python_BuiltInFunctions_Map_Filter_Reduce_Recursion_Lecture.ipynb",
   "provenance": []
  },
  "kernelspec": {
   "display_name": "Python 3",
   "language": "python",
   "name": "python3"
  },
  "language_info": {
   "codemirror_mode": {
    "name": "ipython",
    "version": 3
   },
   "file_extension": ".py",
   "mimetype": "text/x-python",
   "name": "python",
   "nbconvert_exporter": "python",
   "pygments_lexer": "ipython3",
   "version": "3.8.3"
  }
 },
 "nbformat": 4,
 "nbformat_minor": 1
}
