{
 "cells": [
  {
   "cell_type": "markdown",
   "metadata": {
    "id": "Me-AnngRC-lw"
   },
   "source": [
    "# Regular Expressions"
   ]
  },
  {
   "cell_type": "markdown",
   "metadata": {
    "id": "nPczwa70C-l6"
   },
   "source": [
    "# Tasks today:\n",
    "1) <b>Importing</b> <br>\n",
    "2) <b>Using Regular Expressions</b> <br>\n",
    " &nbsp;&nbsp;&nbsp;&nbsp; a) re.compile() <br>\n",
    " &nbsp;&nbsp;&nbsp;&nbsp; b) re.match() <br>\n",
    " &nbsp;&nbsp;&nbsp;&nbsp; c) re.findall() <br>\n",
    " &nbsp;&nbsp;&nbsp;&nbsp; d) re.search() <br>\n",
    "3) <b>Sets</b> <br>\n",
    " &nbsp;&nbsp;&nbsp;&nbsp; a) Integer Ranges <br>\n",
    " &nbsp;&nbsp;&nbsp;&nbsp; b) Character Ranges <br>\n",
    "4) <b>Counting Occurences</b> <br>\n",
    " &nbsp;&nbsp;&nbsp;&nbsp; a) {x} <br>\n",
    " &nbsp;&nbsp;&nbsp;&nbsp; b) {, x} <br>\n",
    " &nbsp;&nbsp;&nbsp;&nbsp; c) {?} <br>\n",
    " &nbsp;&nbsp;&nbsp;&nbsp; d) {*} <br>\n",
    " &nbsp;&nbsp;&nbsp;&nbsp; e) {+} <br>\n",
    "5) <b>In-Class Exercise #1</b> <br>\n",
    "6) <b>Escaping Characters</b> <br>\n",
    "7) <b>Grouping</b> <br>\n",
    "8) <b>In-Class Exercise #2</b> <br>\n",
    "9) <b>Opening a File</b> <br>\n",
    " &nbsp;&nbsp;&nbsp;&nbsp; a) open() <br>\n",
    " &nbsp;&nbsp;&nbsp;&nbsp; b) with open() <br>\n",
    " &nbsp;&nbsp;&nbsp;&nbsp; c) re.match() <br>\n",
    " &nbsp;&nbsp;&nbsp;&nbsp; d) re.search() <br>\n",
    " &nbsp;&nbsp;&nbsp;&nbsp; e) Store the String in a Variable <br>\n",
    "10) <b>Regex Project</b> <br>"
   ]
  },
  {
   "cell_type": "markdown",
   "metadata": {
    "id": "FI4EURxHC-l9"
   },
   "source": [
    "### Importing <br>\n",
    "<p>Regular Expressions are universal throughout most programming languages... They are generally imported through the module 're'.</p>"
   ]
  },
  {
   "cell_type": "code",
   "execution_count": 1,
   "metadata": {
    "id": "qrFVGtYrC-l-"
   },
   "outputs": [],
   "source": [
    "# import re\n",
    "import re"
   ]
  },
  {
   "cell_type": "markdown",
   "metadata": {
    "id": "i-NDhgUdC-mA"
   },
   "source": [
    "### Using Regular Expressions <br>\n",
    "<p>Regular expressions give us the ability to search for patterns within text, strings, files, etc. They serve several uses, such as; security measures, searching, filtering, pattern recognition, and more...</p>"
   ]
  },
  {
   "cell_type": "markdown",
   "metadata": {
    "id": "mfNA1AYmC-mA"
   },
   "source": [
    "##### re.compile()"
   ]
  },
  {
   "cell_type": "code",
   "execution_count": 4,
   "metadata": {
    "id": "27OrQ1JaC-mB"
   },
   "outputs": [
    {
     "data": {
      "text/plain": [
       "re.compile(r'abcd', re.UNICODE)"
      ]
     },
     "execution_count": 4,
     "metadata": {},
     "output_type": "execute_result"
    }
   ],
   "source": [
    "# using compile, predetermines the string to be used in regular expression methods\n",
    "# docs https://docs.python.org/3/library/re.html\n",
    "#regex comes with python but you have to import it\n",
    "\n",
    "#using RegEx first you have to compile your pattern\n",
    "pattern = re.compile(\"abcd\")\n",
    "pattern\n",
    "#once we have created the pattern then we can use methods like match findall search etc"
   ]
  },
  {
   "cell_type": "markdown",
   "metadata": {
    "id": "wX1RJBIpC-mB"
   },
   "source": [
    "##### re.match()"
   ]
  },
  {
   "cell_type": "code",
   "execution_count": 10,
   "metadata": {
    "id": "kG_AJh6IC-mC"
   },
   "outputs": [
    {
     "ename": "SyntaxError",
     "evalue": "invalid syntax (<ipython-input-10-d77565d7931b>, line 11)",
     "output_type": "error",
     "traceback": [
      "\u001b[1;36m  File \u001b[1;32m\"<ipython-input-10-d77565d7931b>\"\u001b[1;36m, line \u001b[1;32m11\u001b[0m\n\u001b[1;33m    print(my_string.my_match.span[0]:my_match.span[1])\u001b[0m\n\u001b[1;37m                                    ^\u001b[0m\n\u001b[1;31mSyntaxError\u001b[0m\u001b[1;31m:\u001b[0m invalid syntax\n"
     ]
    }
   ],
   "source": [
    "#matches starting at the BEGINNING\n",
    "my_string = pattern.match(\"abcd123\")\n",
    "print(my_match)\n",
    "# in the result, span is the indecies of the matched object\n",
    "my_match2 = pattern.match(\"1abcd123\")\n",
    "print(my_match2)\n",
    "#we added a 1 which doesn't match the beginning of our string which\n",
    "#doesn't match the pattern so we get None\n",
    "\n",
    "#to access the span of a match\n",
    "print(my_string.my_match.span[0]:my_match.span[1])\n",
    "#this would show the indexes exactly where it matches"
   ]
  },
  {
   "cell_type": "markdown",
   "metadata": {
    "id": "IH8ozXGoC-mD"
   },
   "source": [
    "##### re.findall()"
   ]
  },
  {
   "cell_type": "code",
   "execution_count": 19,
   "metadata": {
    "id": "aXRsb2SGC-mD"
   },
   "outputs": [
    {
     "name": "stdout",
     "output_type": "stream",
     "text": [
      "['abcd', 'abcd', 'abcd', 'abcd', 'abcd']\n"
     ]
    }
   ],
   "source": [
    "# returns all non overlapping matches\n",
    "string3 = \"123abcd abcd12 abcd abcabd abcd 12abcd34 cda\"\n",
    "find = pattern.findall(string3)\n",
    "print(find)\n",
    "#find all returns a LIST not a match object\n"
   ]
  },
  {
   "cell_type": "markdown",
   "metadata": {
    "id": "5kfymLz-C-mF"
   },
   "source": [
    "##### re.search()"
   ]
  },
  {
   "cell_type": "code",
   "execution_count": 13,
   "metadata": {
    "id": "ojN7swCMC-mG"
   },
   "outputs": [
    {
     "name": "stdout",
     "output_type": "stream",
     "text": [
      "<re.Match object; span=(11, 15), match='abcd'>\n",
      "abcd\n"
     ]
    }
   ],
   "source": [
    "#search searches the entire string\n",
    "# it finds the first instance of the string and tehn stops\n",
    "new_string = \"123 abc 12 abcd 123 abcd\"\n",
    "my_search = pattern.search(new_string)\n",
    "print(my_search)\n",
    "#see how its matched on index 11 to 15\n",
    "span = my_search.span()\n",
    "print(new_string[span[0]:span[1]])"
   ]
  },
  {
   "cell_type": "markdown",
   "metadata": {
    "id": "1TzSWHNkC-mG"
   },
   "source": [
    "### Sets <br>\n",
    "<p>The following cells will allow you to use regular expressions to search for certain values within a range such as numbers 1 through 4.</p>"
   ]
  },
  {
   "cell_type": "markdown",
   "metadata": {
    "id": "1c-ARgGNC-mH"
   },
   "source": [
    "##### [a-z] or [A-Z] - any lowercase/uppercase letters from a to z<br/>[^2] - anything that's not 2"
   ]
  },
  {
   "cell_type": "markdown",
   "metadata": {
    "id": "gNizv402C-mH"
   },
   "source": [
    "##### Integer Ranges"
   ]
  },
  {
   "cell_type": "code",
   "execution_count": 22,
   "metadata": {
    "id": "PbPDvxRwC-mH"
   },
   "outputs": [
    {
     "name": "stdout",
     "output_type": "stream",
     "text": [
      "['1', '2', '3', '7', '4']\n"
     ]
    }
   ],
   "source": [
    "pattern_int = re.compile(\"[0-7]\")\n",
    "#another way to wrtie the above is (\"[0123456]\")\n",
    "#the important point being that the square brakets\n",
    "#means its going to look for any one value, not the entire string as a whole\n",
    "#you can also search for pairs of digits\n",
    "# patter_int=re.compile(\"[0-7][7-9]\")\n",
    "# the above will look at each pair of numbers and see if it meets the requirements\n",
    "#1 is between 0-7 and 9 is between 7-9 so 19will be returned\n",
    "rand_ints = \"1923748\"\n",
    "find_nums = pattern_int.findall(rand_ints)\n",
    "print(find_nums)\n",
    "\n",
    "\n",
    "#you can use the square brakets on .search and .match too\n",
    "#int_search = pattern_into.search(rand_ints)\n",
    "#print(nint_search)\n",
    "#span(int=int_search.span()\n",
    "#print(rand_ints[span_int900:span_into91]])"
   ]
  },
  {
   "cell_type": "markdown",
   "metadata": {
    "id": "HJtouj6XC-mI"
   },
   "source": [
    "##### Character Ranges\n"
   ]
  },
  {
   "cell_type": "code",
   "execution_count": 24,
   "metadata": {
    "id": "jd68lbsIC-mU"
   },
   "outputs": [
    {
     "name": "stdout",
     "output_type": "stream",
     "text": [
      "['e', 'l', 'l', 'o', 'h', 'e', 'r', 'e', 'y', 'n', 'd', 'e', 'r', 's', 'o', 'n']\n"
     ]
    }
   ],
   "source": [
    "pattern_char = re.compile(\"[a-z]\")\n",
    "#\"[A-z]\" would search for uppercase and lowercase\n",
    "# if you wanted to search for capital letter followbed by lowercase\n",
    "#you'd do (\"[A-Z][a-Z]\")\n",
    "\n",
    "my_text = \"Hello There My Anderson\"\n",
    "found = pattern_char.findall(my_text)\n",
    "print(found)"
   ]
  },
  {
   "cell_type": "code",
   "execution_count": null,
   "metadata": {},
   "outputs": [],
   "source": [
    "new_pat = re.compile(\"[^2-5]]\")\n",
    "#use a cerat to say \"not\"\n",
    "#so these above would look for anything that's not 2 thru 5\n"
   ]
  },
  {
   "cell_type": "markdown",
   "metadata": {
    "id": "Ke5PdXuLC-mV"
   },
   "source": [
    "### Counting Occurences"
   ]
  },
  {
   "cell_type": "markdown",
   "metadata": {
    "id": "vVQoCucpC-mX"
   },
   "source": [
    "##### {x} - something that occurs {num_of_times}"
   ]
  },
  {
   "cell_type": "code",
   "execution_count": 30,
   "metadata": {
    "id": "EJ5F2yt1C-mZ"
   },
   "outputs": [
    {
     "name": "stdout",
     "output_type": "stream",
     "text": [
      "['An12']\n"
     ]
    }
   ],
   "source": [
    "char_pattern_count = re.compile(\"[A-Z][a-z][0-3]{2}\")\n",
    "found_count = char_pattern_count.findall(\"Hello Mr. An12derson\")\n",
    "print (found_count)"
   ]
  },
  {
   "cell_type": "markdown",
   "metadata": {
    "id": "5tcAXy17C-mZ"
   },
   "source": [
    "##### {x, x} - something that occurs between x and x times"
   ]
  },
  {
   "cell_type": "code",
   "execution_count": 34,
   "metadata": {
    "id": "7TeoFIsSC-mZ"
   },
   "outputs": [
    {
     "name": "stdout",
     "output_type": "stream",
     "text": [
      "['m', 'm', 'm', 'm', 'mmmmm', 'mm']\n"
     ]
    }
   ],
   "source": [
    "rand_part = re.compile(\"m{1,5}\")\n",
    "rand_statement = rand_part.findall(\"This is an example of a regular expression trying to find m more than one time such as mmmmmmm\")\n",
    "\n",
    "print(rand_statement)\n",
    "#the top range is inclusive\n"
   ]
  },
  {
   "cell_type": "markdown",
   "metadata": {
    "id": "gmTPF9uxC-mZ"
   },
   "source": [
    "##### ? - something that occurs 0 or 1 time"
   ]
  },
  {
   "cell_type": "code",
   "execution_count": 36,
   "metadata": {
    "id": "pGHkla5TC-ma"
   },
   "outputs": [
    {
     "name": "stdout",
     "output_type": "stream",
     "text": [
      "['Mr', 'Mrs', 'Mrs']\n"
     ]
    }
   ],
   "source": [
    "#looks for the thing directly to the left of the ?\n",
    "pat = re.compile(\"Mrs?\")\n",
    "#the thing directly to the left occurs 0 or 1 times\n",
    "found_pat = pat.findall(\"Hello Mr. and Mrs. and Mrssssss. Anderson\")\n",
    "print(found_pat)\n",
    "#Mr followed by zero \"s\" es Mr\n",
    "#Mr followed by one \"s\"  Mrs"
   ]
  },
  {
   "cell_type": "code",
   "execution_count": 38,
   "metadata": {},
   "outputs": [
    {
     "data": {
      "text/plain": [
       "['1', '2', '3', '1', '2a', '5', '3x', '2x', '3']"
      ]
     },
     "execution_count": 38,
     "metadata": {},
     "output_type": "execute_result"
    }
   ],
   "source": [
    "new_pat = re.compile(\"[0-9][a-z]?\")\n",
    "new_pat.findall(\"123 12a 53x x2x3\")"
   ]
  },
  {
   "cell_type": "markdown",
   "metadata": {
    "id": "-lUqhPfbC-ma"
   },
   "source": [
    "##### * - something that occurs at least 0 times"
   ]
  },
  {
   "cell_type": "code",
   "execution_count": 41,
   "metadata": {
    "id": "uPebi84UC-mb"
   },
   "outputs": [
    {
     "name": "stdout",
     "output_type": "stream",
     "text": [
      "['MMMs', 's', 'Ms', 's', 's', 's', 's', 's']\n"
     ]
    }
   ],
   "source": [
    "#if the item is not there 0\n",
    "#or if its 1 time\n",
    "#or infinite times\n",
    "\n",
    "pattern_m = re.compile(\"M*s\")\n",
    "found_m = pattern_m.findall(\"MMMs name is Ms. Smith. Is Mmmmmssss\")\n",
    "print(found_m)\n",
    "#so this will return any single \"s\" which has either no M's, one M or up to infinity M's"
   ]
  },
  {
   "cell_type": "markdown",
   "metadata": {
    "id": "a7INrKmPC-mb"
   },
   "source": [
    "##### + - something that occurs at least once"
   ]
  },
  {
   "cell_type": "code",
   "execution_count": 42,
   "metadata": {
    "id": "mRAGZvm6C-mb"
   },
   "outputs": [
    {
     "name": "stdout",
     "output_type": "stream",
     "text": [
      "['MMMs', 'Ms']\n"
     ]
    }
   ],
   "source": [
    "#zero does not count, has to match at least once up until infinity\n",
    "pattern_m = re.compile(\"M+s\")\n",
    "found_m = pattern_m.findall(\"MMMs name is Ms. Smith. Is Mmmmmssss\")\n",
    "print(found_m)\n",
    "\n",
    "#so our result MUST have at least one capital M in it. "
   ]
  },
  {
   "cell_type": "markdown",
   "metadata": {
    "id": "mZ5u1qDWC-mb"
   },
   "source": [
    "##### In-class exercise 1: \n",
    "\n",
    "Use a regular expression to find every number in the given string"
   ]
  },
  {
   "cell_type": "code",
   "execution_count": 48,
   "metadata": {
    "id": "yGFR6qRaC-mc"
   },
   "outputs": [
    {
     "name": "stdout",
     "output_type": "stream",
     "text": [
      "['10909090', '1', '2']\n"
     ]
    }
   ],
   "source": [
    "#so we are looking for numbers that have to occur at least once\n",
    "#but more times is ok\n",
    "\n",
    "my_string = \"This string has 10909090 numbers, but it is only 1 string. I hope you solve this 2day.\"\n",
    "e_pattern = re.compile(\"[0-9]+\")\n",
    "found_2 = e_pattern.findall(my_string)\n",
    "print(found_2)\n",
    "\n",
    "# Output: ['10909090','1',2]\n"
   ]
  },
  {
   "cell_type": "markdown",
   "metadata": {
    "id": "mPXftPj0C-mc"
   },
   "source": [
    "### Escaping Characters"
   ]
  },
  {
   "cell_type": "markdown",
   "metadata": {
    "id": "Mz4rqmGhC-md"
   },
   "source": [
    "##### \\w - look for any Unicode character<br/>\\W - look for anything that isnt a Unicode character\n",
    "\n",
    "[History on Unicode](http://unicode.org/standard/WhatIsUnicode.html)\n",
    "\n",
    "[More on Unicode Characters](https://en.wikipedia.org/wiki/List_of_Unicode_characters)"
   ]
  },
  {
   "cell_type": "code",
   "execution_count": 54,
   "metadata": {
    "id": "uluSjGhZC-md"
   },
   "outputs": [
    {
     "name": "stdout",
     "output_type": "stream",
     "text": [
      "['This', 'is', 'a', 'sentence', 'and', '_', 'it', 'has', '1', '2', '3', 'a']\n",
      "[' ', ' ', ' ', ', ', ' ', ' ', ' - ', ' ', ' ', ' ', ' ', ' !']\n"
     ]
    }
   ],
   "source": [
    "#LOWERCASE \\w\n",
    "#don't specify which unicode character you're looking for\n",
    "#this means look for ANY unicode word characters, numbers and the underscore\n",
    "pattern1 = re.compile(\"[\\w]+\")\n",
    "#find all characters that are unicode characters\n",
    "found = pattern1.findall(\"This is a sentence, and _ it - has 1 2 3 a !\")\n",
    "print(found)\n",
    "#includes A-Z\n",
    "#includes a-z\n",
    "#includes 0-9\n",
    "#includes _\n",
    "\n",
    "#CAPITAL \\W\n",
    "#will return anything that's not A-z 0-9 or _\n",
    "pattern1 = re.compile(\"[\\W]+\")\n",
    "#find all characters that are unicode characters\n",
    "found = pattern1.findall(\"This is a sentence, and _ it - has 1 2 3 a !\")\n",
    "print(found)"
   ]
  },
  {
   "cell_type": "markdown",
   "metadata": {
    "id": "AimokaAkC-md"
   },
   "source": [
    "##### \\d - look for any digit 0-9<br/>\\D - look for anything that isnt a digit"
   ]
  },
  {
   "cell_type": "code",
   "execution_count": 61,
   "metadata": {
    "id": "uQ57jJ11C-md",
    "scrolled": true
   },
   "outputs": [
    {
     "ename": "error",
     "evalue": "unterminated character set at position 11",
     "output_type": "error",
     "traceback": [
      "\u001b[1;31m-------------------------------------------\u001b[0m",
      "\u001b[1;31merror\u001b[0m     Traceback (most recent call last)",
      "\u001b[1;32m<ipython-input-61-e3ae6722a929>\u001b[0m in \u001b[0;36m<module>\u001b[1;34m\u001b[0m\n\u001b[1;32m----> 1\u001b[1;33m \u001b[0mpattern_dates\u001b[0m \u001b[1;33m=\u001b[0m \u001b[0mre\u001b[0m\u001b[1;33m.\u001b[0m\u001b[0mcompile\u001b[0m\u001b[1;33m(\u001b[0m\u001b[1;34m\"\\d{1,2}[\\w][2}\"\u001b[0m\u001b[1;33m)\u001b[0m\u001b[1;33m\u001b[0m\u001b[1;33m\u001b[0m\u001b[0m\n\u001b[0m\u001b[0;32m      2\u001b[0m \u001b[1;33m\u001b[0m\u001b[0m\n\u001b[0;32m      3\u001b[0m \u001b[0mfound\u001b[0m \u001b[1;33m=\u001b[0m \u001b[0mpattern_dates\u001b[0m\u001b[1;33m.\u001b[0m\u001b[0mfindall\u001b[0m\u001b[1;33m(\u001b[0m\u001b[1;34m\"today is the 25th in 2 days it will be 1st 3rd 4th\"\u001b[0m\u001b[1;33m)\u001b[0m\u001b[1;33m\u001b[0m\u001b[1;33m\u001b[0m\u001b[0m\n",
      "\u001b[1;32m~\\miniconda3\\lib\\re.py\u001b[0m in \u001b[0;36mcompile\u001b[1;34m(pattern, flags)\u001b[0m\n\u001b[0;32m    250\u001b[0m \u001b[1;32mdef\u001b[0m \u001b[0mcompile\u001b[0m\u001b[1;33m(\u001b[0m\u001b[0mpattern\u001b[0m\u001b[1;33m,\u001b[0m \u001b[0mflags\u001b[0m\u001b[1;33m=\u001b[0m\u001b[1;36m0\u001b[0m\u001b[1;33m)\u001b[0m\u001b[1;33m:\u001b[0m\u001b[1;33m\u001b[0m\u001b[1;33m\u001b[0m\u001b[0m\n\u001b[0;32m    251\u001b[0m     \u001b[1;34m\"Compile a regular expression pattern, returning a Pattern object.\"\u001b[0m\u001b[1;33m\u001b[0m\u001b[1;33m\u001b[0m\u001b[0m\n\u001b[1;32m--> 252\u001b[1;33m     \u001b[1;32mreturn\u001b[0m \u001b[0m_compile\u001b[0m\u001b[1;33m(\u001b[0m\u001b[0mpattern\u001b[0m\u001b[1;33m,\u001b[0m \u001b[0mflags\u001b[0m\u001b[1;33m)\u001b[0m\u001b[1;33m\u001b[0m\u001b[1;33m\u001b[0m\u001b[0m\n\u001b[0m\u001b[0;32m    253\u001b[0m \u001b[1;33m\u001b[0m\u001b[0m\n\u001b[0;32m    254\u001b[0m \u001b[1;32mdef\u001b[0m \u001b[0mpurge\u001b[0m\u001b[1;33m(\u001b[0m\u001b[1;33m)\u001b[0m\u001b[1;33m:\u001b[0m\u001b[1;33m\u001b[0m\u001b[1;33m\u001b[0m\u001b[0m\n",
      "\u001b[1;32m~\\miniconda3\\lib\\re.py\u001b[0m in \u001b[0;36m_compile\u001b[1;34m(pattern, flags)\u001b[0m\n\u001b[0;32m    302\u001b[0m     \u001b[1;32mif\u001b[0m \u001b[1;32mnot\u001b[0m \u001b[0msre_compile\u001b[0m\u001b[1;33m.\u001b[0m\u001b[0misstring\u001b[0m\u001b[1;33m(\u001b[0m\u001b[0mpattern\u001b[0m\u001b[1;33m)\u001b[0m\u001b[1;33m:\u001b[0m\u001b[1;33m\u001b[0m\u001b[1;33m\u001b[0m\u001b[0m\n\u001b[0;32m    303\u001b[0m         \u001b[1;32mraise\u001b[0m \u001b[0mTypeError\u001b[0m\u001b[1;33m(\u001b[0m\u001b[1;34m\"first argument must be string or compiled pattern\"\u001b[0m\u001b[1;33m)\u001b[0m\u001b[1;33m\u001b[0m\u001b[1;33m\u001b[0m\u001b[0m\n\u001b[1;32m--> 304\u001b[1;33m     \u001b[0mp\u001b[0m \u001b[1;33m=\u001b[0m \u001b[0msre_compile\u001b[0m\u001b[1;33m.\u001b[0m\u001b[0mcompile\u001b[0m\u001b[1;33m(\u001b[0m\u001b[0mpattern\u001b[0m\u001b[1;33m,\u001b[0m \u001b[0mflags\u001b[0m\u001b[1;33m)\u001b[0m\u001b[1;33m\u001b[0m\u001b[1;33m\u001b[0m\u001b[0m\n\u001b[0m\u001b[0;32m    305\u001b[0m     \u001b[1;32mif\u001b[0m \u001b[1;32mnot\u001b[0m \u001b[1;33m(\u001b[0m\u001b[0mflags\u001b[0m \u001b[1;33m&\u001b[0m \u001b[0mDEBUG\u001b[0m\u001b[1;33m)\u001b[0m\u001b[1;33m:\u001b[0m\u001b[1;33m\u001b[0m\u001b[1;33m\u001b[0m\u001b[0m\n\u001b[0;32m    306\u001b[0m         \u001b[1;32mif\u001b[0m \u001b[0mlen\u001b[0m\u001b[1;33m(\u001b[0m\u001b[0m_cache\u001b[0m\u001b[1;33m)\u001b[0m \u001b[1;33m>=\u001b[0m \u001b[0m_MAXCACHE\u001b[0m\u001b[1;33m:\u001b[0m\u001b[1;33m\u001b[0m\u001b[1;33m\u001b[0m\u001b[0m\n",
      "\u001b[1;32m~\\miniconda3\\lib\\sre_compile.py\u001b[0m in \u001b[0;36mcompile\u001b[1;34m(p, flags)\u001b[0m\n\u001b[0;32m    762\u001b[0m     \u001b[1;32mif\u001b[0m \u001b[0misstring\u001b[0m\u001b[1;33m(\u001b[0m\u001b[0mp\u001b[0m\u001b[1;33m)\u001b[0m\u001b[1;33m:\u001b[0m\u001b[1;33m\u001b[0m\u001b[1;33m\u001b[0m\u001b[0m\n\u001b[0;32m    763\u001b[0m         \u001b[0mpattern\u001b[0m \u001b[1;33m=\u001b[0m \u001b[0mp\u001b[0m\u001b[1;33m\u001b[0m\u001b[1;33m\u001b[0m\u001b[0m\n\u001b[1;32m--> 764\u001b[1;33m         \u001b[0mp\u001b[0m \u001b[1;33m=\u001b[0m \u001b[0msre_parse\u001b[0m\u001b[1;33m.\u001b[0m\u001b[0mparse\u001b[0m\u001b[1;33m(\u001b[0m\u001b[0mp\u001b[0m\u001b[1;33m,\u001b[0m \u001b[0mflags\u001b[0m\u001b[1;33m)\u001b[0m\u001b[1;33m\u001b[0m\u001b[1;33m\u001b[0m\u001b[0m\n\u001b[0m\u001b[0;32m    765\u001b[0m     \u001b[1;32melse\u001b[0m\u001b[1;33m:\u001b[0m\u001b[1;33m\u001b[0m\u001b[1;33m\u001b[0m\u001b[0m\n\u001b[0;32m    766\u001b[0m         \u001b[0mpattern\u001b[0m \u001b[1;33m=\u001b[0m \u001b[1;32mNone\u001b[0m\u001b[1;33m\u001b[0m\u001b[1;33m\u001b[0m\u001b[0m\n",
      "\u001b[1;32m~\\miniconda3\\lib\\sre_parse.py\u001b[0m in \u001b[0;36mparse\u001b[1;34m(str, flags, state)\u001b[0m\n\u001b[0;32m    946\u001b[0m \u001b[1;33m\u001b[0m\u001b[0m\n\u001b[0;32m    947\u001b[0m     \u001b[1;32mtry\u001b[0m\u001b[1;33m:\u001b[0m\u001b[1;33m\u001b[0m\u001b[1;33m\u001b[0m\u001b[0m\n\u001b[1;32m--> 948\u001b[1;33m         \u001b[0mp\u001b[0m \u001b[1;33m=\u001b[0m \u001b[0m_parse_sub\u001b[0m\u001b[1;33m(\u001b[0m\u001b[0msource\u001b[0m\u001b[1;33m,\u001b[0m \u001b[0mstate\u001b[0m\u001b[1;33m,\u001b[0m \u001b[0mflags\u001b[0m \u001b[1;33m&\u001b[0m \u001b[0mSRE_FLAG_VERBOSE\u001b[0m\u001b[1;33m,\u001b[0m \u001b[1;36m0\u001b[0m\u001b[1;33m)\u001b[0m\u001b[1;33m\u001b[0m\u001b[1;33m\u001b[0m\u001b[0m\n\u001b[0m\u001b[0;32m    949\u001b[0m     \u001b[1;32mexcept\u001b[0m \u001b[0mVerbose\u001b[0m\u001b[1;33m:\u001b[0m\u001b[1;33m\u001b[0m\u001b[1;33m\u001b[0m\u001b[0m\n\u001b[0;32m    950\u001b[0m         \u001b[1;31m# the VERBOSE flag was switched on inside the pattern.  to be\u001b[0m\u001b[1;33m\u001b[0m\u001b[1;33m\u001b[0m\u001b[1;33m\u001b[0m\u001b[0m\n",
      "\u001b[1;32m~\\miniconda3\\lib\\sre_parse.py\u001b[0m in \u001b[0;36m_parse_sub\u001b[1;34m(source, state, verbose, nested)\u001b[0m\n\u001b[0;32m    441\u001b[0m     \u001b[0mstart\u001b[0m \u001b[1;33m=\u001b[0m \u001b[0msource\u001b[0m\u001b[1;33m.\u001b[0m\u001b[0mtell\u001b[0m\u001b[1;33m(\u001b[0m\u001b[1;33m)\u001b[0m\u001b[1;33m\u001b[0m\u001b[1;33m\u001b[0m\u001b[0m\n\u001b[0;32m    442\u001b[0m     \u001b[1;32mwhile\u001b[0m \u001b[1;32mTrue\u001b[0m\u001b[1;33m:\u001b[0m\u001b[1;33m\u001b[0m\u001b[1;33m\u001b[0m\u001b[0m\n\u001b[1;32m--> 443\u001b[1;33m         itemsappend(_parse(source, state, verbose, nested + 1,\n\u001b[0m\u001b[0;32m    444\u001b[0m                            not nested and not items))\n\u001b[0;32m    445\u001b[0m         \u001b[1;32mif\u001b[0m \u001b[1;32mnot\u001b[0m \u001b[0msourcematch\u001b[0m\u001b[1;33m(\u001b[0m\u001b[1;34m\"|\"\u001b[0m\u001b[1;33m)\u001b[0m\u001b[1;33m:\u001b[0m\u001b[1;33m\u001b[0m\u001b[1;33m\u001b[0m\u001b[0m\n",
      "\u001b[1;32m~\\miniconda3\\lib\\sre_parse.py\u001b[0m in \u001b[0;36m_parse\u001b[1;34m(source, state, verbose, nested, first)\u001b[0m\n\u001b[0;32m    547\u001b[0m                 \u001b[0mthis\u001b[0m \u001b[1;33m=\u001b[0m \u001b[0msourceget\u001b[0m\u001b[1;33m(\u001b[0m\u001b[1;33m)\u001b[0m\u001b[1;33m\u001b[0m\u001b[1;33m\u001b[0m\u001b[0m\n\u001b[0;32m    548\u001b[0m                 \u001b[1;32mif\u001b[0m \u001b[0mthis\u001b[0m \u001b[1;32mis\u001b[0m \u001b[1;32mNone\u001b[0m\u001b[1;33m:\u001b[0m\u001b[1;33m\u001b[0m\u001b[1;33m\u001b[0m\u001b[0m\n\u001b[1;32m--> 549\u001b[1;33m                     raise source.error(\"unterminated character set\",\n\u001b[0m\u001b[0;32m    550\u001b[0m                                        source.tell() - here)\n\u001b[0;32m    551\u001b[0m                 \u001b[1;32mif\u001b[0m \u001b[0mthis\u001b[0m \u001b[1;33m==\u001b[0m \u001b[1;34m\"]\"\u001b[0m \u001b[1;32mand\u001b[0m \u001b[0mset\u001b[0m\u001b[1;33m:\u001b[0m\u001b[1;33m\u001b[0m\u001b[1;33m\u001b[0m\u001b[0m\n",
      "\u001b[1;31merror\u001b[0m: unterminated character set at position 11"
     ]
    }
   ],
   "source": [
    "pattern_dates = re.compile(\"\\d{1,2}[\\w][2}\")\n",
    "\n",
    "found = pattern_dates.findall(\"today is the 25th in 2 days it will be 1st 3rd 4th\")"
   ]
  },
  {
   "cell_type": "markdown",
   "metadata": {
    "id": "Lf0y7U5IC-me"
   },
   "source": [
    "##### \\s - look for any white space<br/>\\S - look for anything that isnt whitespace"
   ]
  },
  {
   "cell_type": "code",
   "execution_count": 68,
   "metadata": {
    "id": "elIzq1aSC-me"
   },
   "outputs": [
    {
     "name": "stdout",
     "output_type": "stream",
     "text": [
      "[' ', ' ', ' ', ' ', ' ']\n",
      "['Are', 'you', 'afriad', 'of', 'the', 'dark']\n"
     ]
    }
   ],
   "source": [
    "pattern_space = re.compile(\"\\s+\")\n",
    "found_space = pattern_space.findall(\"Are you afriad of the dark\")\n",
    "print(found_space)\n",
    "\n",
    "pattern_nonspace = re.compile(\"\\S+\")\n",
    "found_nonspace = pattern_nonspace.findall(\"Are you afriad of the dark\")\n",
    "print(found_nonspace)\n"
   ]
  },
  {
   "cell_type": "markdown",
   "metadata": {
    "id": "aNh-0a8BC-me"
   },
   "source": [
    "##### \\b - look for boundaries or edges of a word<br/>\\B - look for anything that isnt a boundary"
   ]
  },
  {
   "cell_type": "code",
   "execution_count": 78,
   "metadata": {
    "id": "3KSR-7WcC-me"
   },
   "outputs": [
    {
     "name": "stdout",
     "output_type": "stream",
     "text": [
      "['TheCodingTemple']\n",
      "['TheCodingTemple']\n"
     ]
    }
   ],
   "source": [
    "#boundary occurs between a unicode and a nonunicode\n",
    "#lowercase b looks for strings that are bounded aka: are at the edge of a word\n",
    "pattern_bound = re.compile(r\"\\bTheCodingTemple\\b\")\n",
    "found_bound = pattern_bound.findall(\"TheCodingTemple\")\n",
    "print(found_bound)\n",
    "\n",
    "#uppercase B look for a string inside another string\n",
    "pattern_bound = re.compile(r\"\\BTheCodingTemple\\B\")\n",
    "found_bound = pattern_bound.findall(\"yyTheCodingTemplexx\")\n",
    "print(found_bound)"
   ]
  },
  {
   "cell_type": "code",
   "execution_count": 80,
   "metadata": {},
   "outputs": [],
   "source": [
    "###\\A beginning of a string\n",
    "###\\Z end of a string"
   ]
  },
  {
   "cell_type": "code",
   "execution_count": 89,
   "metadata": {},
   "outputs": [
    {
     "name": "stdout",
     "output_type": "stream",
     "text": [
      "['This']\n",
      "[]\n"
     ]
    }
   ],
   "source": [
    "pattern_bound = re.compile(\"\\AThis\")\n",
    "found_bound = pattern_bound.findall(\"This is inthis TheCodingTemplexx\")\n",
    "print(found_bound)\n",
    "\n",
    "pattern_bound = re.compile(\"This\\Z\")\n",
    "found_bound = pattern_bound.findall(\"This is inThis TheCodingTemplexx\")\n",
    "print(found_bound)"
   ]
  },
  {
   "cell_type": "markdown",
   "metadata": {
    "id": "yNkbZLojC-mf"
   },
   "source": [
    "### Grouping"
   ]
  },
  {
   "cell_type": "code",
   "execution_count": 102,
   "metadata": {
    "id": "u2N-UDO-C-mf"
   },
   "outputs": [
    {
     "name": "stdout",
     "output_type": "stream",
     "text": [
      "[('Le', 'Bron'), ('Mc', 'Cormick')]\n",
      "not a valid name\n",
      "not a valid name\n",
      "not a valid name\n",
      "Le\n",
      "not a valid name\n",
      "not a valid name\n",
      "Mc\n",
      "not a valid name\n",
      "not a valid name\n",
      "not a valid name\n",
      "Bron\n",
      "not a valid name\n",
      "not a valid name\n",
      "Cormick\n"
     ]
    }
   ],
   "source": [
    "#...\n",
    "\n",
    "my_string_again = \"Max Smith, aaron rodgers, Sam Darnold,LeBron James, Micheal Jordan, Kevin Durant, Patrick McCormick\"\n",
    "\n",
    "# Group of names Regular Expression Compiler\n",
    "#(\"([A-Z][a-z]+)\")\n",
    "# words that start with a capital letter that is followed by \n",
    "#either another capital letter or a lowercase letter\n",
    "pattern_name = re.compile(\"([A-Z][A-Za-z]+)([A-Z][A-Za-z]+)\")\n",
    "found_names = pattern_name.findall(my_string_again)\n",
    "print(found_names)\n",
    "\n",
    "#match on 1st group\n",
    "for name in my_string_again.split(\",\"):\n",
    "    match = pattern_name.search(name)\n",
    "                                \n",
    "    if match:\n",
    "        print(match.group(1))\n",
    "    else:\n",
    "        print(\"not a valid name\")\n",
    "        \n",
    "#mach on 2nd group\n",
    "for name in my_string_again.split(\",\"):\n",
    "    match = pattern_name.search(name)\n",
    "                                \n",
    "    if match:\n",
    "        print(match.group(2))\n",
    "    else:\n",
    "        print(\"not a valid name\")"
   ]
  },
  {
   "cell_type": "markdown",
   "metadata": {
    "id": "GrMcmJ01C-mg"
   },
   "source": [
    "##### In-class Exercise 2:\n",
    "\n",
    "Write a function using regular expressions to find the domain name in the given email addresses (and return None for the invalid email addresses)<br><b>HINT: Use '|' for either or</b>"
   ]
  },
  {
   "cell_type": "code",
   "execution_count": 116,
   "metadata": {
    "id": "iXBc1mcBC-mg"
   },
   "outputs": [
    {
     "name": "stdout",
     "output_type": "stream",
     "text": [
      "not a valid email\n",
      "not a valid email\n",
      "not a valid email\n",
      "not a valid email\n",
      "not a valid email\n"
     ]
    }
   ],
   "source": [
    "my_emails = [\"jordanw@codingtemple.orgcom\", \"pocohontas1776@gmail.com\", \"helloworld@aol..com\",\n",
    "             \"yourfavoriteband@g6.org\", \"@codingtemple.com\"]\n",
    "email_pattern = email_pattern = re.compile('[\\w]+(@[\\w]+.com$|@[\\w]+.org$)')\n",
    "\n",
    "for email in my_emails:\n",
    "    match = email_pattern.search(name)\n",
    "    if match:\n",
    "        print(match)\n",
    "    else:\n",
    "        print(\"not a valid email\")\n",
    "\n",
    "# You can also use the $ at the end of your compile expression -- this stops the search\n",
    "\n",
    "#Expected output:\n",
    "#None\n",
    "#pocohontas1776@gmail.com\n",
    "#None\n",
    "#yourfavoriteband@g6.org\n",
    "#None\n",
    "\n",
    "#example, look for all ppl's who last name ends in a or z\n",
    "#pattern = re.compile(\"[son|ton]\")\n",
    "# names = \"Stanton, Anderson, Robinson, Clinton, Bush\"\n",
    "# for name in names.split:\n",
    "#     match = last_name_pattern.search(name)\n",
    "#     if match:\n",
    "#         print(match)\n",
    "#     else:\n",
    "#         print(\"not match\")\n",
    "\n",
    "\n",
    "# a popular regex for this is: regex = \n",
    "  #  '^(\\w|\\.|\\_|\\-)+[@](\\w|\\_|\\-|\\.)+[.]\\w{2,3}$'\n",
    "\n",
    "    \n",
    "    \n",
    "#     pattern = re.compile(\"([A-Za-z0-9]+)@([A-Za-z0-9]+).(com|org)$\")\n",
    "# for email in my_emails:\n",
    "#     match = pattern.search(email)\n",
    "#     if match:\n",
    "#         print('.'.join(match.group(2,3)))\n",
    "#     else:\n",
    "#         print(match)\n",
    "\n",
    "# 2:17\n",
    "\n",
    "# valid = re.compile('([\\w]+)(@[\\w]+.com$|@[\\w]+.org$)')\n",
    "# for email in my_emails:\n",
    "#     match = valid.search(email)\n",
    "#     if match:\n",
    "#         print(match.group(2))\n",
    "#     else:\n",
    "        print(match)"
   ]
  },
  {
   "cell_type": "markdown",
   "metadata": {
    "id": "HO6IRaMlC-mg"
   },
   "source": [
    "### Opening a File <br>\n",
    "<p>Python gives us a couple ways to import files, below are the two used most often.</p>"
   ]
  },
  {
   "cell_type": "markdown",
   "metadata": {
    "id": "uFn-a_kvC-mh"
   },
   "source": [
    "##### open()"
   ]
  },
  {
   "cell_type": "code",
   "execution_count": 121,
   "metadata": {
    "id": "EEYD4SGcC-mh"
   },
   "outputs": [
    {
     "name": "stdout",
     "output_type": "stream",
     "text": [
      "Hawkins, Derek\tderek@codingtemple.com\t(555) 555-5555\tTeacher, Coding Temple\t@derekhawkins\n",
      "Stanton, Brian\tbrians@codingtemple.com\t(555) 555-5554\tTeacher, Coding Temple\n",
      "Johnson, Joe\tjoejohnson@codingtemple.com\t\tJohson, Joe\n",
      "Osterberg, Sven-Erik\tgovernor@norrbotten.co.se\t\tGovernor, Norrbotten\t@sverik\n",
      ", Tim\ttim@killerrabbit.com\t\tEnchanter, Killer Rabbit Cave\n",
      "Butz, Ryan\tryanb@codingtemple.com\t(555) 555-5543\tCEO, Coding Temple\t@ryanbutz\n",
      "Doctor, The\tdoctor+companion@tardis.co.uk\t\tTime Lord, Gallifrey\n",
      "Exampleson, Example\tme@example.com\t555-555-5552\tExample, Example Co.\t@example\n",
      "Pael, Ripal\tripalp@codingtemple.com\t(555) 555-5553\tTeacher, Coding Temple\t@ripalp\n",
      "Vader, Darth\tdarth-vader@empire.gov\t(555) 555-4444\tSith Lord, Galactic Empire\t@darthvader\n",
      "Fernandez de la Vega Sanz, Maria Teresa\tmtfvs@spain.gov\t\tFirst Deputy Prime Minister, Spanish Gov\n",
      "\n"
     ]
    }
   ],
   "source": [
    "#open is built in to python\n",
    "#pass in file name\n",
    "#mode r for read\n",
    "#mode w for write\n",
    "#opens a file and returns a string\n",
    "\n",
    "file = open(\"names.txt\")\n",
    "data = file.read()\n",
    "print(data)\n",
    "file.close()"
   ]
  },
  {
   "cell_type": "markdown",
   "metadata": {
    "id": "SHti3HdSC-mh"
   },
   "source": [
    "##### with open()"
   ]
  },
  {
   "cell_type": "code",
   "execution_count": 122,
   "metadata": {
    "id": "DIOS0m66C-mh"
   },
   "outputs": [
    {
     "name": "stdout",
     "output_type": "stream",
     "text": [
      "Hawkins, Derek\tderek@codingtemple.com\t(555) 555-5555\tTeacher, Coding Temple\t@derekhawkins\n",
      "Stanton, Brian\tbrians@codingtemple.com\t(555) 555-5554\tTeacher, Coding Temple\n",
      "Johnson, Joe\tjoejohnson@codingtemple.com\t\tJohson, Joe\n",
      "Osterberg, Sven-Erik\tgovernor@norrbotten.co.se\t\tGovernor, Norrbotten\t@sverik\n",
      ", Tim\ttim@killerrabbit.com\t\tEnchanter, Killer Rabbit Cave\n",
      "Butz, Ryan\tryanb@codingtemple.com\t(555) 555-5543\tCEO, Coding Temple\t@ryanbutz\n",
      "Doctor, The\tdoctor+companion@tardis.co.uk\t\tTime Lord, Gallifrey\n",
      "Exampleson, Example\tme@example.com\t555-555-5552\tExample, Example Co.\t@example\n",
      "Pael, Ripal\tripalp@codingtemple.com\t(555) 555-5553\tTeacher, Coding Temple\t@ripalp\n",
      "Vader, Darth\tdarth-vader@empire.gov\t(555) 555-4444\tSith Lord, Galactic Empire\t@darthvader\n",
      "Fernandez de la Vega Sanz, Maria Teresa\tmtfvs@spain.gov\t\tFirst Deputy Prime Minister, Spanish Gov\n",
      "\n"
     ]
    }
   ],
   "source": [
    "# with open automatically closes your file without you telling it to do so\n",
    "with open(\"names.txt\") as file:\n",
    "    data = file.read()\n",
    "    print(data)"
   ]
  },
  {
   "cell_type": "markdown",
   "metadata": {
    "id": "EGrylU43C-mi"
   },
   "source": [
    "##### re.match()"
   ]
  },
  {
   "cell_type": "code",
   "execution_count": 132,
   "metadata": {
    "id": "4iI7FWy-C-mi"
   },
   "outputs": [
    {
     "name": "stdout",
     "output_type": "stream",
     "text": [
      "<class 'str'>\n",
      "<re.Match object; span=(0, 14), match='Hawkins, Derek'>\n",
      "None\n",
      "Hawkins, Derek\n",
      "<re.Match object; span=(105, 128), match='brians@codingtemple.com'>\n",
      "brians@codingtemple.com\n"
     ]
    }
   ],
   "source": [
    "print(type(data))\n",
    "\n",
    "#our file is a raw string so the below will only search for things at the beginning of the string\n",
    "print(re.match(\"Hawkins, Derek\", data))\n",
    "print(re.match(\"Stanton, Brian\", data))\n",
    "print(data[0:14])\n"
   ]
  },
  {
   "cell_type": "markdown",
   "metadata": {
    "id": "gxgza3UrC-mi"
   },
   "source": [
    "##### re.search()"
   ]
  },
  {
   "cell_type": "code",
   "execution_count": null,
   "metadata": {
    "id": "Xc_f20edC-mj"
   },
   "outputs": [],
   "source": [
    "#search will search the whole thing\n",
    "print(re.search(\"brians@codingtemple.com\", data))\n",
    "print(data[105:128])"
   ]
  },
  {
   "cell_type": "markdown",
   "metadata": {
    "id": "bq4wLOr2C-mj"
   },
   "source": [
    "##### Store the String to a Variable"
   ]
  },
  {
   "cell_type": "code",
   "execution_count": 135,
   "metadata": {
    "id": "ArktngjpC-mj"
   },
   "outputs": [
    {
     "name": "stdout",
     "output_type": "stream",
     "text": [
      "What would you like to search for?codingtemple.com\n",
      "I found your data: ['codingtemple.com', 'codingtemple.com', 'codingtemple.com', 'codingtemple.com', 'codingtemple.com']\n"
     ]
    }
   ],
   "source": [
    "answer = input(\"What would you like to search for?\")\n",
    "found = re.findall(answer, data)\n",
    "if found:\n",
    "    print(f\"I found your data: {found}\")\n",
    "else:\n",
    "    print(\"thats a no for me\")"
   ]
  },
  {
   "cell_type": "markdown",
   "metadata": {
    "id": "p8WpkKEKC-mk"
   },
   "source": [
    "### In-Class Exercise #3 <br>\n",
    "<p>Print each persons name and twitter handle, using groups, should look like:</p>\n",
    "<p>==============<br>\n",
    "   Full Name / Twitter<br>\n",
    "   ==============</p>\n",
    "Derek Hawkins / @derekhawkins\n",
    "\n",
    " Erik Sven-Osterberg / @sverik\n",
    "\n",
    " Ryan Butz / @ryanbutz\n",
    "\n",
    " Example Exampleson / @example\n",
    "\n",
    " Ripal Pael / @ripalp\n",
    "\n",
    " Darth Vader / @darthvader"
   ]
  },
  {
   "cell_type": "code",
   "execution_count": 141,
   "metadata": {
    "id": "57CQBG6OC-mk",
    "scrolled": true
   },
   "outputs": [
    {
     "name": "stdout",
     "output_type": "stream",
     "text": [
      "<re.Match object; span=(0, 90), match='Hawkins, Derek\\tderek@codingtemple.com\\t(555) 555>\n",
      "<re.Match object; span=(90, 190), match='Stanton, Brian\\tbrians@codingtemple.com\\t(555) 55>\n",
      "<re.Match object; span=(209, 220), match='Johson, Joe'>\n",
      "<re.Match object; span=(221, 298), match='Osterberg, Sven-Erik\\tgovernor@norrbotten.co.se\\t>\n",
      "<re.Match object; span=(298, 372), match=', Tim\\ttim@killerrabbit.com\\t\\tEnchanter, Killer >\n",
      "<re.Match object; span=(405, 416), match='CEO, Coding'>\n",
      "<re.Match object; span=(434, 446), match='Doctor, The\\t'>\n",
      "<re.Match object; span=(477, 497), match='Time Lord, Gallifrey'>\n",
      "<re.Match object; span=(498, 576), match='Exampleson, Example\\tme@example.com\\t555-555-5552>\n",
      "<re.Match object; span=(576, 658), match='Pael, Ripal\\tripalp@codingtemple.com\\t(555) 555-5>\n",
      "<re.Match object; span=(658, 671), match='Vader, Darth\\t'>\n",
      "<re.Match object; span=(709, 728), match='Sith Lord, Galactic'>\n",
      "<re.Match object; span=(748, 780), match='Fernandez de la Vega Sanz, Maria'>\n",
      "<re.Match object; span=(805, 841), match='First Deputy Prime Minister, Spanish'>\n"
     ]
    }
   ],
   "source": [
    "pattern = re.compile(r'''\n",
    "    (?P<name>[a-zA-Z ]*,\\s[-\\w]+) # The name as last, first\n",
    "    \\t?(?P<optional>[.\\w\\d]+@[-\\w\\d,.\\(\\)\\s]+)? # random stuff we don't care about but need to account for\n",
    "    (?P<twitter>@[\\w\\d]+\\s?\\n)?\n",
    "    \n",
    "''', re.X)\n",
    "\n",
    "for found in pattern.finditer(data):\n",
    "    print(found)\n"
   ]
  },
  {
   "cell_type": "code",
   "execution_count": 145,
   "metadata": {
    "scrolled": true
   },
   "outputs": [
    {
     "name": "stdout",
     "output_type": "stream",
     "text": [
      "=========================\n",
      "Name: Hawkins, Derek\n",
      "Email: derek@codingtemple.com\n",
      "Phone: (555) 555-5555\n",
      "Occupation: Teacher, Coding Temple\t\n",
      "Twitter:@derekhawkins\n",
      "=========================\n",
      "=========================\n",
      "Name: Stanton, Brian\n",
      "Email: brians@codingtemple.com\n",
      "Phone: (555) 555-5554\n",
      "Occupation: Teacher, Coding Temple\n",
      "Twitter:None\n",
      "=========================\n",
      "=========================\n",
      "Name: Johnson, Joe\n",
      "Email: joejohnson@codingtemple.com\n",
      "Phone: None\n",
      "Occupation: Johson, Joe\n",
      "Twitter:None\n",
      "=========================\n",
      "=========================\n",
      "Name: Osterberg, Sven-Erik\n",
      "Email: governor@norrbotten.co.se\n",
      "Phone: None\n",
      "Occupation: Governor, Norrbotten\t\n",
      "Twitter:@sverik\n",
      "=========================\n",
      "=========================\n",
      "Name: , Tim\n",
      "Email: tim@killerrabbit.com\n",
      "Phone: None\n",
      "Occupation: Enchanter, Killer Rabbit Cave\n",
      "Twitter:None\n",
      "=========================\n",
      "=========================\n",
      "Name: Butz, Ryan\n",
      "Email: ryanb@codingtemple.com\n",
      "Phone: (555) 555-5543\n",
      "Occupation: CEO, Coding Temple\t\n",
      "Twitter:@ryanbutz\n",
      "=========================\n",
      "=========================\n",
      "Name: Doctor, The\n",
      "Email: doctor+companion@tardis.co.uk\n",
      "Phone: None\n",
      "Occupation: Time Lord, Gallifrey\n",
      "Twitter:None\n",
      "=========================\n",
      "=========================\n",
      "Name: Exampleson, Example\n",
      "Email: me@example.com\n",
      "Phone: 555-555-5552\n",
      "Occupation: Example, Example Co.\t\n",
      "Twitter:@example\n",
      "=========================\n",
      "=========================\n",
      "Name: Pael, Ripal\n",
      "Email: ripalp@codingtemple.com\n",
      "Phone: (555) 555-5553\n",
      "Occupation: Teacher, Coding Temple\t\n",
      "Twitter:@ripalp\n",
      "=========================\n",
      "=========================\n",
      "Name: Vader, Darth\n",
      "Email: darth-vader@empire.gov\n",
      "Phone: (555) 555-4444\n",
      "Occupation: Sith Lord, Galactic Empire\t\n",
      "Twitter:@darthvader\n",
      "=========================\n",
      "=========================\n",
      "Name: Fernandez de la Vega Sanz, Maria Teresa\n",
      "Email: mtfvs@spain.gov\n",
      "Phone: None\n",
      "Occupation: First Deputy Prime Minister, Spanish Gov\n",
      "\n",
      "Twitter:None\n",
      "=========================\n",
      "===================\n",
      "Full name / Twitter\n",
      "===================\n",
      "Derek Hawkins / @derekhawkins\n",
      "\n",
      "Sven-Erik Osterberg / @sverik\n",
      "\n",
      "Ryan Butz / @ryanbutz\n",
      "\n",
      "Example Exampleson / @example\n",
      "\n",
      "Ripal Pael / @ripalp\n",
      "\n",
      "Darth Vader / @darthvader\n",
      "\n"
     ]
    }
   ],
   "source": [
    "# SOLUTION EXAMPLE ONE\n",
    "#broken down evenwith all data: \n",
    "info = re.compile(r'''\n",
    "    ^(?P<name>[-\\w\\s]*,\\s\\w+[-\\w\\s]*)\\t        # last name, first name\n",
    "    (?P<email>[-.+\\w\\d]+@[-.+\\w\\d]+)\\t         # email\n",
    "    (?P<phone>\\(?\\d{3}\\)?\\s?-?\\d{3}-\\d{4})?\\t  # phone\n",
    "    # that \\( is an escape for the ( because () is used to define groups\n",
    "    (?P<occupation>[\\w\\d\\s]*,\\s[\\w\\d\\s.]*)\\t?  # occupation, company\n",
    "    (?P<twitter>@[\\w\\d]+)?$                    # Twitter handle\n",
    "''', re.X|re.M)\n",
    "\n",
    "for i in info.finditer(data):\n",
    "    print(\"=========================\")\n",
    "    print(f\"Name: {i.group('name')}\\nEmail: {i.group('email')}\\nPhone: {i.group('phone')}\\nOccupation: {i.group('occupation')}\\nTwitter:{i.group('twitter')}\")\n",
    "    print(\"=========================\")\n",
    "\n",
    "\n",
    "    \n",
    "#ANOTHER WAY TO PRINT IT\n",
    "    \n",
    "print(\"===================\")\n",
    "print(\"Full name / Twitter\")\n",
    "print(\"===================\")\n",
    "\n",
    "info = re.compile(r'''\n",
    "    ^(?P<lname>[-\\w\\s]*),\\s(?P<fname>\\w+[-\\w\\s]*)\\t        # last name, first name\n",
    "    (?P<email>[-.+\\w\\d]+@[-.+\\w\\d]+)\\t         # email\n",
    "    (?P<phone>\\(?\\d{3}\\)?\\s?-?\\d{3}-\\d{4})?\\t  # phone\n",
    "    (?P<occupation>[\\w\\d\\s]*,\\s[\\w\\d\\s.]*)\\t?  # occupation, company\n",
    "    (?P<twitter>@[\\w\\d]+)?$                    # Twitter handle\n",
    "''', re.X|re.M)\n",
    "\n",
    "for i in info.finditer(data):\n",
    "    if i.group('twitter') is not None:\n",
    "        print(f\"{i.group('fname')} {i.group('lname')} / {i.group('twitter')}\\n\")\n",
    "  \n",
    "    \n",
    "    \n",
    "\n",
    "    \n",
    "    \n",
    "#re.X is verbose for the multi line string\n",
    "#the re.M is multiline which is to do matching on multiple lines\n",
    "#for when using ^ and $\n"
   ]
  },
  {
   "cell_type": "markdown",
   "metadata": {
    "id": "I4clzsbGC-mk"
   },
   "source": [
    "### Regex project\n",
    "\n",
    "Use python to read the file regex_test.txt and print the last name on each line using regular expressions and groups (return None for names with no first and last name, or names that aren't properly capitalized)\n",
    "##### Hint: use with open() and readlines()"
   ]
  },
  {
   "cell_type": "code",
   "execution_count": 199,
   "metadata": {
    "id": "NNZZj9-tC-mk"
   },
   "outputs": [
    {
     "name": "stdout",
     "output_type": "stream",
     "text": [
      "['Abraham Lincoln\\n', 'Andrew P Garfield\\n', 'Connor Milliken\\n', 'Jordan Alexander Williams\\n', 'Madonna\\n', 'programming is cool\\n']\n",
      "Abraham Lincoln\n",
      "Andrew Garfield\n",
      "Connor Milliken\n",
      "Jordan Alexander\n",
      "None\n",
      "None\n"
     ]
    }
   ],
   "source": [
    "import re\n",
    "\n",
    "\"\"\"\n",
    "Expected Output\n",
    "Abraham Lincoln\n",
    "Andrew P Garfield\n",
    "Connor Milliken\n",
    "Jordan Alexander Williams\n",
    "None\n",
    "None\n",
    "\"\"\"\n",
    "\n",
    "\n",
    "\n",
    "file = open(\"regex_test.txt\")\n",
    "regex_test = file.readlines()\n",
    "print(regex_test)\n",
    "file.close()\n",
    "#print(type(regex_test))\n",
    "#pattern_name = re.compile(\"(?P<first>[A-Z][A-Za-z]+)(?P<middle>[\\s]?[\\w]?[\\s]?) (?P<last>[A-Z][A-Z'a-z]+)\")\n",
    "\n",
    "for line in regex_test:\n",
    "    match = pattern_name.search(line)\n",
    "    if match:\n",
    "        f = match.group(\"first\")\n",
    "        l = match.group(\"last\")\n",
    "        print(f+\" \"+l)\n",
    "        #print(match.group('first'))\n",
    "    else:\n",
    "        print(\"None\")\n"
   ]
  },
  {
   "cell_type": "code",
   "execution_count": null,
   "metadata": {},
   "outputs": [],
   "source": []
  }
 ],
 "metadata": {
  "colab": {
   "name": "AdvancedPython_Regular_Expressions_Lecture.ipynb",
   "provenance": []
  },
  "kernelspec": {
   "display_name": "Python 3",
   "language": "python",
   "name": "python3"
  },
  "language_info": {
   "codemirror_mode": {
    "name": "ipython",
    "version": 3
   },
   "file_extension": ".py",
   "mimetype": "text/x-python",
   "name": "python",
   "nbconvert_exporter": "python",
   "pygments_lexer": "ipython3",
   "version": "3.8.3"
  }
 },
 "nbformat": 4,
 "nbformat_minor": 1
}
