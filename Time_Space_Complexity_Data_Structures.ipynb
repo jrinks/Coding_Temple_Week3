{
 "cells": [
  {
   "cell_type": "markdown",
   "metadata": {
    "id": "VjMtNqD_DYHl"
   },
   "source": [
    "# Time/Space Complexity - Intro to Data Structures (User Defined)\n",
    "\n",
    "### Topics to discuss today:\n",
    "\n",
    "<ul>\n",
    "    <li>Time and Space Complexity - What is it/How do we measure it</li>\n",
    "    <li>Asymptotic Analysis</li>\n",
    "    <li><strong>Data Structures</strong></li>\n",
    "    <li>Some of the popular sorting algorithms</li>\n",
    "</ul>\n",
    "\n",
    "### Data Structures to discuss:\n",
    "- Arrays\n",
    "- Stacks\n",
    "- Queues\n",
    "- Linked Lists\n",
    "    - Singly Linked Lists\n",
    "    - Traversing A Linked List\n",
    "    - Finding a node in a linked list\n",
    "    - Adding to a linked list\n",
    "- Binary Search Trees\n",
    "    - Construction\n",
    "    - Traversal\n"
   ]
  },
  {
   "cell_type": "markdown",
   "metadata": {
    "id": "90FAHefZDYHu"
   },
   "source": [
    "## Time and Space Complexity\n",
    "\n",
    "#### What is it?\n",
    "\n",
    "Time and space complexity is the measure of how much time a given action(function) will take to solve a problem. In the same fashion, we determine how much a given data structure will need in terms of memory allocation. A problem can have multiple solutions and finding the optimal solution for the problem needs to be analyzed in time and space.\n",
    "\n",
    "#### How do we measure Time and Space Complexity?\n",
    "\n",
    "In order to measure time and space complexity we use Asymptotic analysis. The reason for this is because we need a way to measure different algorithms (functions) based on the size of their inputs in a mathmatical way. For example, we could have a function that is computed as f(n) and another that is g(n^2). All things around the function staying constant, the only thing that changes is the size of the input. Below is the chart that shows the different Asymptotic analysis formats. "
   ]
  },
  {
   "cell_type": "code",
   "execution_count": null,
   "metadata": {},
   "outputs": [],
   "source": [
    "#think of 0(log n) as if the time is going to be cut in half each iteration\n",
    "#such as binary search"
   ]
  },
  {
   "cell_type": "markdown",
   "metadata": {
    "id": "D5VFHv_9DYHw"
   },
   "source": [
    "<table style=\"text-align:center;\" class=\"table table-bordered\">\n",
    "<tbody><tr>\n",
    "<td>constant</td>\n",
    "<td>−</td>\n",
    "<td>Ο(1)</td>\n",
    "</tr>\n",
    "<tr>\n",
    "<td>logarithmic</td>\n",
    "<td>−</td>\n",
    "<td>Ο(log n)</td>\n",
    "</tr>\n",
    "<tr>\n",
    "<td>linear</td>\n",
    "<td>−</td>\n",
    "<td>Ο(n)</td>\n",
    "</tr>\n",
    "<tr>\n",
    "<td>Linear Logarithmic</td>\n",
    "<td>−</td>\n",
    "<td>Ο(n log n)</td>\n",
    "</tr>\n",
    "<tr>\n",
    "<td>quadratic</td>\n",
    "<td>−</td>\n",
    "<td>Ο(n<sup>2</sup>)</td>\n",
    "</tr>\n",
    "<tr>\n",
    "<td>cubic</td>\n",
    "<td>−</td>\n",
    "<td>Ο(n<sup>3</sup>)</td>\n",
    "</tr>\n",
    "<tr>\n",
    "<td>polynomial</td>\n",
    "<td>−</td>\n",
    "<td>n<sup>Ο(1)</sup></td>\n",
    "</tr>\n",
    "<tr>\n",
    "<td>exponential</td>\n",
    "<td>−</td>\n",
    "<td>2<sup>Ο(n)</sup></td>\n",
    "</tr>\n",
    "</tbody></table>"
   ]
  },
  {
   "cell_type": "markdown",
   "metadata": {
    "id": "ijAFyF0iDYHx"
   },
   "source": [
    "## Arrays"
   ]
  },
  {
   "cell_type": "markdown",
   "metadata": {
    "id": "uTujNKBrDYHy"
   },
   "source": [
    "In python we benefit from the dynamic array which means the block of memory will expand as needed for the given input to the array. In traditional arrays (depending on the type of operating system) we will usually store our inputs in 4 or 8 consecutive blocks of memory. Below is a diagram of how that looks under the hood:\n",
    "\n",
    "<img src=\"http://www.mathcs.emory.edu/~cheung/Courses/170/Syllabus/09/FIGS/array02x.gif\" style=\"height:250px; width:350px;\">"
   ]
  },
  {
   "cell_type": "markdown",
   "metadata": {
    "id": "HiMPwBbSDYHz"
   },
   "source": [
    "## Which in python looks like this:"
   ]
  },
  {
   "cell_type": "code",
   "execution_count": null,
   "metadata": {
    "id": "qwFrJKREDYHz"
   },
   "outputs": [],
   "source": []
  },
  {
   "cell_type": "markdown",
   "metadata": {
    "id": "fFpPtGYzDYH1"
   },
   "source": [
    "### Let's take a look at some of the time and space analysis of arrays"
   ]
  },
  {
   "cell_type": "code",
   "execution_count": null,
   "metadata": {
    "id": "CwQ4JXbyDYH1"
   },
   "outputs": [],
   "source": [
    "#Examples of different operations and how much complexity each has\n",
    "#Complexity comes in Time and in Space\n",
    "#Generally you want to consider the worst case scenario, although there are middle\n",
    "#and best cases, these are less important to think about\n",
    "\n",
    "#indexing an Array (really it is a list unless all data types are the same)\n",
    "indexing = array[1]  # this is constant time 0(1)\n",
    "\n",
    "#searching thru an array is Linear time  0{n}\n",
    "for i in array:\n",
    "    print(i)\n",
    "# this is linear time because it is called each time for each item in the array\n",
    "# constant space because we are only having to assign one variable\n",
    "\n",
    "#copy an array is Linear time 0(n) and Linear space 0(n)\n",
    "#because its reading thru every member of the first array to copy it to the second array\n",
    "# memory is 0(n) because you are making a new copy of the array that has the same size as the original array\n",
    "\n",
    "#setting an index in an array aka: finding an object at an index and changing its value\n",
    "#constant time 0(1) and constant space 0(1)\n",
    "array[2] = 55\n",
    "#because its not cycling thru all items, its just finding the one at the given index\n",
    "\n",
    "#popping\n",
    "array.pop()\n",
    "#this is also constant time\n",
    "#because pop doesn't cycle thru the whole array it just takes the last one\n",
    "#UNLESS you're poping something that's not on the end \n",
    "#such as pop(0) would pop the item at index 0 and then also rearrange every other item in the list\n",
    "#so pop(0) would be complexity 0(n)\n",
    "\n",
    "\n"
   ]
  },
  {
   "cell_type": "markdown",
   "metadata": {
    "id": "DPPiWbl1DYH2"
   },
   "source": [
    "## Stacks and Queues (Review)\n",
    "\n",
    "** Stacks ** as the name suggests is a data structure that allows for data to follow the Last In First Out priciple(LIFO). Think of a stack of pancakes for example. To get the first pancake you would  start with the top and go down.\n",
    "\n",
    "##### Searching through a stack will be Linear Time O(n) - Constant Space O(1)\n",
    "##### Selecting the last item will be done in Constant Time O(1) - Constant Space O(1)\n",
    "##### Adding to the stack should take Constant Time O(1) - Constant Space O(1)\n",
    "\n",
    "** Queues ** are similar but in this case follow the First In First Out principle(FIFO). Think of this as a line in a black friday sale. The first person camped out for the big screen tv is the first to get it.\n",
    "\n",
    "##### Searching through a queue will be Linear Time O(n) - Constant Space O(1)\n",
    "##### Selecting the first item will be done in Constant Time O(1) - Constant Space O(1)\n",
    "##### Adding to the queue should take Constant Time O(1) - Constant Space O(1)"
   ]
  },
  {
   "cell_type": "code",
   "execution_count": 1,
   "metadata": {
    "id": "VFeYoRoPDYH2"
   },
   "outputs": [
    {
     "name": "stdout",
     "output_type": "stream",
     "text": [
      "c\n"
     ]
    }
   ],
   "source": [
    "# a list as a stack\n",
    "stack = []\n",
    "stack.append(\"a\")\n",
    "stack.append(\"b\")\n",
    "stack.append(\"c\")\n",
    "last_item = stack.pop()\n",
    "print(last_item)"
   ]
  },
  {
   "cell_type": "code",
   "execution_count": 2,
   "metadata": {},
   "outputs": [
    {
     "name": "stdout",
     "output_type": "stream",
     "text": [
      "a\n"
     ]
    }
   ],
   "source": [
    "# a list as a queu\n",
    "q = []\n",
    "q.append(\"a\")\n",
    "q.append(\"b\")\n",
    "q.append(\"c\")\n",
    "last_item_q = q.pop(0)\n",
    "print(last_item_q)"
   ]
  },
  {
   "cell_type": "code",
   "execution_count": 4,
   "metadata": {},
   "outputs": [
    {
     "name": "stdout",
     "output_type": "stream",
     "text": [
      "c\n"
     ]
    }
   ],
   "source": [
    "#LIFO\n",
    "from collections import deque\n",
    "stack = deque()\n",
    "stack.append(\"a\")\n",
    "stack.append(\"b\")\n",
    "stack.append(\"c\")\n",
    "last_item = stack.pop()\n",
    "print(last_item)"
   ]
  },
  {
   "cell_type": "code",
   "execution_count": 6,
   "metadata": {},
   "outputs": [
    {
     "name": "stdout",
     "output_type": "stream",
     "text": [
      "a\n"
     ]
    }
   ],
   "source": [
    "#FIFO\n",
    "from collections import deque\n",
    "q = deque()\n",
    "q.append(\"a\")\n",
    "q.append(\"b\")\n",
    "q.append(\"c\")\n",
    "last_item_q = q.popleft()\n",
    "print(last_item_q)"
   ]
  },
  {
   "cell_type": "code",
   "execution_count": 7,
   "metadata": {},
   "outputs": [
    {
     "name": "stdout",
     "output_type": "stream",
     "text": [
      "a\n"
     ]
    }
   ],
   "source": [
    "#FIFO\n",
    "from queue import Queue\n",
    "q = Queue(maxsize=0)\n",
    "q.put(\"a\")\n",
    "q.put(\"b\")\n",
    "q.put(\"c\")\n",
    "last_item_q = q.get()\n",
    "print(last_item_q)"
   ]
  },
  {
   "cell_type": "code",
   "execution_count": 10,
   "metadata": {},
   "outputs": [
    {
     "name": "stdout",
     "output_type": "stream",
     "text": [
      "c\n"
     ]
    }
   ],
   "source": [
    "#LIFO\n",
    "from queue import LifoQueue\n",
    "s = LifoQueue(maxsize=0)\n",
    "s.put(\"a\")\n",
    "s.put(\"b\")\n",
    "s.put(\"c\")\n",
    "last_item_s = s.get()\n",
    "print(last_item_s)"
   ]
  },
  {
   "cell_type": "markdown",
   "metadata": {
    "id": "BpFmW71bDYH4"
   },
   "source": [
    "## Linked List (Data Structure)\n",
    "\n",
    "A linked list is created by using the node class. We create a Node object and create another class to use this node object. We pass the appropriate values thorugh the node object to point the to the next data elements.\n",
    "\n",
    "There are some advantages and disadvantages with this data structure. **Advantages** Linked Lists can save memory because they can be flexibile with memory management which saves memory. **Disadvantages** Finding or adding to the list requires traversing the entire list."
   ]
  },
  {
   "cell_type": "code",
   "execution_count": null,
   "metadata": {},
   "outputs": [],
   "source": [
    "#linked lists are a new data type for us\n",
    "#linked lists is created of data that is ordered\n",
    "#but the linked list is not ordered\n",
    "#data is stored in a node\n",
    "#nodes have two attributes(value, next)\n",
    "#a node has a value and it has a next that points to another node\n",
    "#you have a collectin of nodes that starts with the Head and points one by one to each node until you et to the end\n",
    "#https://realpython.com/linked-lists-python/\n"
   ]
  },
  {
   "cell_type": "code",
   "execution_count": null,
   "metadata": {},
   "outputs": [],
   "source": [
    "#example of a basic version of linked list\n",
    "#a normal list saves in a memory block\n",
    "#a linked list is saved kind of like a dictionary ... all over the place\n",
    "#but the node holds the attribute that points to where the next node is in memory\n",
    "#but you can't index into a list\n",
    "#the linked list will always start at the head node and point to each next node\n",
    "#until it gets to the rest\n",
    "#so its memory efficient but not time. Time is 0(n) linear.\n",
    "\n",
    "\n"
   ]
  },
  {
   "cell_type": "code",
   "execution_count": 31,
   "metadata": {
    "id": "XbU4stQTDYH5"
   },
   "outputs": [
    {
     "name": "stdout",
     "output_type": "stream",
     "text": [
      "Mon\n",
      "Tues\n",
      "Wed\n"
     ]
    }
   ],
   "source": [
    "class LinkedListNode():\n",
    "    def __init__(self, value):\n",
    "        self.value = value\n",
    "        self.next = None    \n",
    "        \n",
    "    # we spedify this cuz otherwise it would print some cryptic crap about\n",
    "    #the node object instead of the value\n",
    "    def __str__(self):\n",
    "        return f'Node: {self.value}'    \n",
    "    \n",
    "    def traverse_list(self):\n",
    "        node = self\n",
    "        while node != None:\n",
    "            print(node.value)\n",
    "            node = node.next\n",
    "            \n",
    "node1 = LinkedListNode('Mon')\n",
    "node2 = LinkedListNode('Tues')\n",
    "node3 = LinkedListNode('Wed')\n",
    "node1.next = node2\n",
    "node2.next = node3\n",
    "# print(node1.next.next)\n",
    "\n",
    "node1.traverse_list()"
   ]
  },
  {
   "cell_type": "code",
   "execution_count": 41,
   "metadata": {
    "id": "N0px7RNcDYH5"
   },
   "outputs": [
    {
     "ename": "SyntaxError",
     "evalue": "invalid syntax (<ipython-input-41-cd8fc6046735>, line 57)",
     "output_type": "error",
     "traceback": [
      "\u001b[1;36m  File \u001b[1;32m\"<ipython-input-41-cd8fc6046735>\"\u001b[1;36m, line \u001b[1;32m57\u001b[0m\n\u001b[1;33m    while is last.next:\u001b[0m\n\u001b[1;37m          ^\u001b[0m\n\u001b[1;31mSyntaxError\u001b[0m\u001b[1;31m:\u001b[0m invalid syntax\n"
     ]
    }
   ],
   "source": [
    "# now lets do complete implementation \n",
    "# including two classes: \n",
    "# the node class and a linked list class\n",
    "\n",
    "#create node class\n",
    "\n",
    "class Node():\n",
    "    def __init__(self,value):\n",
    "        self.value = value\n",
    "        self.next = None\n",
    "    def __str__(self):\n",
    "        print(f\"Node: {self.value}\")\n",
    "        \n",
    "#create a linked list class\n",
    "\n",
    "class LinkedList():\n",
    "    def __init__(self):\n",
    "        self.head = None\n",
    "    \n",
    "    #add a method to add node to beginning of LinkedList\n",
    "    def push_on(self, new_value):\n",
    "        new_node = Node(new_value)\n",
    "        # this is saying add the node to the beginning of the list\n",
    "        new_node.next = self.head\n",
    "        # each time you cycle thru, the most recent node will be the new head\n",
    "        self.head = new_node\n",
    "        \n",
    "    #this is a method to insert a new node on after a specified noe\n",
    "    def insert_after(self, prev_node, new_value):\n",
    "        #cheeck if previous node exists\n",
    "        if prev_node == None:\n",
    "            print(\"the given previous node must node be empty\")\n",
    "            return # to end the function\n",
    "        #if the node is not empty, create a new node\n",
    "        new_node=Node(new_value)\n",
    "        #update previous node to point to new node\n",
    "        prev_node.next = new_node\n",
    "        \n",
    "    #remove a node\n",
    "    #take prev node, find current node's next, point prev node to current node next to remove current node\n",
    "    \n",
    "    #create method to add node to end of our list\n",
    "    def append(self, new_value):\n",
    "        #create new node with new value\n",
    "        new_node = Node(new_value)\n",
    "        #check if LinkedList exists and that it is empty\n",
    "        if self.head is None:\n",
    "        #if yes set self.head equal to new node\n",
    "            self.head = new_node\n",
    "            # because now we have a list with one node in it so it has to be the head\n",
    "        \n",
    "        #if the list is not empty\n",
    "        #start at the head\n",
    "            #treverse to the end, add new node, make the new node the head node.\n",
    "            last = self.head #start at the beginning\n",
    "        #while last.nex exists, keep going\n",
    "        while last.next:\n",
    "            last = last.next\n",
    "        #change the current last node value to point to the new node\n",
    "        last.next = new_node\n",
    "        \n",
    "    #method to print out all values of linked list\n",
    "    def treverse(self):\n",
    "        temp = self.head\n",
    "        #while temp is not none, keep looping thru untl you find a none value then stop\n",
    "        while temp:\n",
    "            print(temp)\n",
    "            temp = temp.next\n",
    "            \n",
    "            \n",
    "weekday_links = LinkedList()\n",
    "\n",
    "weekday_links.push_on(\"Monday\")\n",
    "weekday_links.append(\"Tuesday\")\n",
    "weekday_links.append(\"Thursday\")\n",
    "weekday_links.insert_after(weekday_links.head.next,\"Wednesday\")\n",
    "\n",
    "weekday_list.treverse()\n",
    "\n",
    "\n",
    "\n",
    "\n",
    "\n",
    "# #Brian's code\n",
    "\n",
    "# # A Complete Implementation of a Linked List\n",
    "\n",
    "# # 2 components to this solution - Node Class + LinkedList Class\n",
    "\n",
    "# class Node():\n",
    "\n",
    "#     def __init__(self, value):\n",
    "\n",
    "#         self.value = value\n",
    "\n",
    "#         self.next = None\n",
    "\n",
    "        \n",
    "\n",
    "#     def __str__(self):\n",
    "\n",
    "#         return f'Node: {self.value}'\n",
    "\n",
    "    \n",
    "\n",
    "    \n",
    "\n",
    "# class LinkedList():\n",
    "\n",
    "#     def __init__(self):\n",
    "\n",
    "#         self.head = None\n",
    "\n",
    "        \n",
    "\n",
    "#     # Method to add node to beginning of Linked List\n",
    "\n",
    "#     def push_on(self, new_value):\n",
    "\n",
    "#         new_node = Node(new_value)\n",
    "\n",
    "#         new_node.next = self.head\n",
    "\n",
    "#         self.head = new_node\n",
    "\n",
    "        \n",
    "\n",
    "#     # Method to add node after another specified node\n",
    "\n",
    "#     def insert_after(self, prev_node, new_value):\n",
    "\n",
    "#         # Check if the previous node even exists\n",
    "\n",
    "#         if prev_node is None:\n",
    "\n",
    "#             print('The given previous node must not be empty')\n",
    "\n",
    "#             return\n",
    "\n",
    "#         # If the node is not empty, create a new node\n",
    "\n",
    "#         new_node = Node(new_value)\n",
    "\n",
    "        \n",
    "\n",
    "#         #Update the new node to point to the previous node's next value\n",
    "\n",
    "#         new_node.next = prev_node.next\n",
    "\n",
    "        \n",
    "\n",
    "#         # Update the previous node to point to the new node\n",
    "\n",
    "#         prev_node.next = new_node\n",
    "\n",
    "        \n",
    "\n",
    "#     # Method to add node at the end of our list (append)\n",
    "\n",
    "#     def append(self, new_value):\n",
    "\n",
    "#         # Create new Node with new value\n",
    "\n",
    "#         new_node = Node(new_value)\n",
    "\n",
    "        \n",
    "\n",
    "#         # Check if the Linked List is empty\n",
    "\n",
    "#         if self.head is None:\n",
    "\n",
    "#             # Make the NEW NODE the head node (beginning of list)\n",
    "\n",
    "#             self.head = new_node\n",
    "\n",
    "            \n",
    "\n",
    "#         # BUT if the list is NOT empty - traverse to the end \n",
    "\n",
    "#         last = self.head\n",
    "\n",
    "#         # While last.next is not None -> continue to loop until we find a None value\n",
    "\n",
    "#         while last.next:\n",
    "\n",
    "#             last = last.next\n",
    "\n",
    "            \n",
    "\n",
    "#         # Change current last node value to point to the new node\n",
    "\n",
    "#         last.next = new_node\n",
    "\n",
    "        \n",
    "\n",
    "#     # Method to print out all the values of our Linked List\n",
    "\n",
    "#     def traverse(self):\n",
    "\n",
    "#         temp = self.head\n",
    "\n",
    "#         # while temp is NOT NONE -> keep looping through the links until we find a None value\n",
    "\n",
    "#         while temp:\n",
    "\n",
    "#             print(temp)\n",
    "\n",
    "#             temp = temp.next\n",
    "\n",
    "            \n",
    "\n",
    "            \n",
    "\n",
    "# weekday_links = LinkedList()\n",
    "\n",
    "# weekday_links.push_on('Monday')\n",
    "\n",
    "# weekday_links.append('Tuesday')\n",
    "\n",
    "# weekday_links.append('Thursday')\n",
    "\n",
    "# weekday_links.insert_after(weekday_links.head.next, 'Wednesday')\n",
    "\n",
    "# weekday_links.push_on('Sunday')\n",
    "\n",
    "# weekday_links.traverse()\n",
    "\n"
   ]
  },
  {
   "cell_type": "markdown",
   "metadata": {
    "id": "Ov4soXu0DYH6"
   },
   "source": [
    "## Binary Search Trees"
   ]
  },
  {
   "cell_type": "code",
   "execution_count": 42,
   "metadata": {
    "id": "tgyHtmytDYH6"
   },
   "outputs": [],
   "source": [
    "#https://www.cs.usfca.edu/~galles/visualization/BST.html\n",
    "#this is a data structure with nodes that has a value and also a left value and a right value\n",
    "#complexity is 0(logn) or worse dase 0(n) \n",
    "\n",
    "# step one create the class\n",
    "\n",
    "class BST():\n",
    "    def __init__(self, value):\n",
    "        self.value = value # current value\n",
    "        self.left = None\n",
    "        Self.right = None\n",
    "        \n",
    "    #insert values to the binary tree\n",
    "    def insert(self,value):\n",
    "        #if value is less than current value, check left\n",
    "        if value < self.value:\n",
    "            #if left is none, assign it the current value\n",
    "            if self.left is None:\n",
    "                self.left = BST(value)\n",
    "            #if left is not none, start insert again\n",
    "            else:\n",
    "                self.left.insert(value)\n",
    "                #this is a recursive function!\n",
    "        #if value is more, go to the right\n",
    "        else:\n",
    "            if self.right is None:\n",
    "                self.right = BST(value)\n",
    "            else:\n",
    "                self.right.insert(value)\n",
    "        \n",
    "    # find node based on value\n",
    "    def find(self, value):\n",
    "        if value < self.value:\n",
    "            if self.left is None:\n",
    "                return False\n",
    "            #above is returning a false if the value doesn't exist to the left\n",
    "            #it also doesn't exist to the right because we already said in our if that\n",
    "            #it had to be lower\n",
    "            else:\n",
    "                return self.left.find(value)\n",
    "        elif value > self.value:\n",
    "            if self.right is None:\n",
    "                return False\n",
    "        else:\n",
    "            return True\n",
    "        \n",
    "        \n",
    "        #method to find max value in tree\n",
    "        def get_max(self):\n",
    "            # if there's nothing to the right, the value is the max value\n",
    "            if self.right is None:\n",
    "                return self.value\n",
    "            #if there is stuff to the right, recursivly run get_max\n",
    "            else:\n",
    "                return self.right.get_max()\n",
    "        \n",
    "        \n",
    "        #find minimum value\n",
    "        def get_min(self):\n",
    "            if self.left is None:\n",
    "                return self.value\n",
    "            else:\n",
    "                return self.left.get_min()\n",
    "        \n",
    "        #remove a value\n",
    "        #this one is complicated!\n",
    "        def remove(self, value, parent=None):\n",
    "            #find node you are looking for\n",
    "            if value < self.value:\n",
    "                if self.left is not None:\n",
    "                    self.left.remove(value, self)\n",
    "            elif value > self.value:\n",
    "                if self.right is not None:\n",
    "                    self.right.remove(value,self)\n",
    "            else:\n",
    "                if self.left is not None and self.right is not None:\n",
    "                    self.value = self.right.get_min()\n",
    "                    self.right.remove(self.value, self)\n",
    "                #once we remove the item, we have to move around its children\n",
    "                elif parent is None:\n",
    "                    if self.left is not None:\n",
    "                        self.value = self.left.value\n",
    "                        self.right = self.left.right\n",
    "                        self.left = self.left.left\n",
    "                    elif self.right is not None:\n",
    "                        self.value = self.right.value\n",
    "                        self.right = self.right.right\n",
    "                        self.left = self.right.left\n",
    "                elif parent.left == self:\n",
    "                    parent.left = self.left is self.left is not None else self.right"
   ]
  },
  {
   "cell_type": "markdown",
   "metadata": {
    "id": "0u-MGbQ_DYH6"
   },
   "source": [
    "# Homework"
   ]
  },
  {
   "cell_type": "markdown",
   "metadata": {
    "id": "ZnlYDSZ6DYH7"
   },
   "source": [
    "#### Problem 1: Linked Lists\n",
    "\n",
    "Using the above examples as a guide, create your own interpretation of the a Linked List class. You can not use the code above exactly, but again it can be used as a guide. This problem requires you to think about how a linked list works and create one using your own logic.\n",
    "\n",
    "*Remember* A Linked List is a list of Nodes that point to the next node in the chain. The first Node starts out as Empty(None) and each node after points to the next.\n",
    "\n",
    "Your Linked List should have a traverse method and have the ability to add a new node"
   ]
  },
  {
   "cell_type": "code",
   "execution_count": 128,
   "metadata": {
    "id": "zeaA9nYPDYH7"
   },
   "outputs": [
    {
     "name": "stdout",
     "output_type": "stream",
     "text": [
      "Track Number: Prolog\n",
      "Track Number: First song\n",
      "Track Number: Second Song\n",
      "Track Number: Third Song\n",
      "Track Number: Fourth Sound\n",
      "Track Number: Fifth Song\n",
      "Track Number: Sixth Song\n",
      "Track Number: Seventh Song\n",
      "Track Number: Eighth Song\n",
      "Track Number: Ninth Song\n",
      "Track Number: Tenth Song\n",
      "Shuffled order is: [6, 2, 8, 7, 4, 10, 9, 3, 1, 5, 0]\n",
      "<__main__.Node object at 0x000002968989D460>\n",
      "6\n"
     ]
    },
    {
     "ename": "AttributeError",
     "evalue": "'int' object has no attribute 'next'",
     "output_type": "error",
     "traceback": [
      "\u001b[1;31m-------------------------------------------\u001b[0m",
      "\u001b[1;31mAttributeError\u001b[0mTraceback (most recent call last)",
      "\u001b[1;32m<ipython-input-128-c920a1dd828b>\u001b[0m in \u001b[0;36m<module>\u001b[1;34m\u001b[0m\n\u001b[0;32m    130\u001b[0m \u001b[1;31m# and print the output we specified in __str__\u001b[0m\u001b[1;33m\u001b[0m\u001b[1;33m\u001b[0m\u001b[1;33m\u001b[0m\u001b[0m\n\u001b[0;32m    131\u001b[0m \u001b[0mtrack_list\u001b[0m\u001b[1;33m.\u001b[0m\u001b[0mtraverse\u001b[0m\u001b[1;33m(\u001b[0m\u001b[1;33m)\u001b[0m\u001b[1;33m\u001b[0m\u001b[1;33m\u001b[0m\u001b[0m\n\u001b[1;32m--> 132\u001b[1;33m \u001b[0mtrack_list\u001b[0m\u001b[1;33m.\u001b[0m\u001b[0mshuffle\u001b[0m\u001b[1;33m(\u001b[0m\u001b[1;33m)\u001b[0m\u001b[1;33m\u001b[0m\u001b[1;33m\u001b[0m\u001b[0m\n\u001b[0m",
      "\u001b[1;32m<ipython-input-128-c920a1dd828b>\u001b[0m in \u001b[0;36mshuffle\u001b[1;34m(self)\u001b[0m\n\u001b[0;32m     94\u001b[0m             \u001b[1;32mfor\u001b[0m \u001b[0mnum\u001b[0m \u001b[1;32min\u001b[0m \u001b[0mshuffle_order\u001b[0m\u001b[1;33m:\u001b[0m\u001b[1;33m\u001b[0m\u001b[1;33m\u001b[0m\u001b[0m\n\u001b[0;32m     95\u001b[0m                 \u001b[0mprint\u001b[0m\u001b[1;33m(\u001b[0m\u001b[0mtemp\u001b[0m\u001b[1;33m)\u001b[0m\u001b[1;33m\u001b[0m\u001b[1;33m\u001b[0m\u001b[0m\n\u001b[1;32m---> 96\u001b[1;33m                 \u001b[0mtemp\u001b[0m\u001b[1;33m.\u001b[0m\u001b[0mnext\u001b[0m \u001b[1;33m=\u001b[0m \u001b[0mnum\u001b[0m\u001b[1;33m\u001b[0m\u001b[1;33m\u001b[0m\u001b[0m\n\u001b[0m\u001b[0;32m     97\u001b[0m                 \u001b[0mtemp\u001b[0m \u001b[1;33m=\u001b[0m \u001b[0mtemp\u001b[0m\u001b[1;33m.\u001b[0m\u001b[0mnext\u001b[0m\u001b[1;33m\u001b[0m\u001b[1;33m\u001b[0m\u001b[0m\n\u001b[0;32m     98\u001b[0m         \u001b[1;31m#now traverse again to print out each track in the new shuffle order\u001b[0m\u001b[1;33m\u001b[0m\u001b[1;33m\u001b[0m\u001b[1;33m\u001b[0m\u001b[0m\n",
      "\u001b[1;31mAttributeError\u001b[0m: 'int' object has no attribute 'next'"
     ]
    }
   ],
   "source": [
    "# Kevin- My Linked List is going to be a music playlist with track numbers as the node values. \n",
    "# I treid to add a method to shuffle the song order, but I wasn't able to get it to work\n",
    "# I realize that shuffling a linked list isn't very efficient from a time standpoint\n",
    "# I wasn't sure if I should just create a new linked list in the new shuffle order\n",
    "# or if I should reassaign each existing node's \"next\" value so that it points to the next item in the new shuffled order\n",
    "# In the end I ended up trying to do the latter, but I wasn't able to get it to work\n",
    "\n",
    "\n",
    "# Step 1 First create a Node class and a LinkedList class\n",
    "# Node class will have  __init__ and a the method __str__ (so it prints something useful)\n",
    "# LinkedLIst class will have an __init__ and methods: \n",
    "    #push_on (add a node at the head \n",
    "    #insert_after (add a node after a specific other node\n",
    "    #append (add a node to the end of the list--instead of the head end)\n",
    "    #traverse (iterate thru the linked list looking for a node with certain value\n",
    "    #shuffle the song order\n",
    "\n",
    "# Create Node class. In this example, each Node represents a song on my playlist \n",
    "class Node():\n",
    "    def __init__(self,value):\n",
    "        #value is the track number of the song. The LinkedList would be called to paly the tracks in order\n",
    "        self.value = value\n",
    "        self.next = None  \n",
    "\n",
    "# Create a Linked LIst class        \n",
    "class LinkedList():\n",
    "    def __init__(self):\n",
    "        # when we create our Linked List, there are no items so Head =  None.\n",
    "        self.head = None\n",
    "\n",
    "    #create pushOn method which will add a new node (song) to the beginning (head) of the track list\n",
    "    def pushOn(self,new_value):\n",
    "        #create new node class (our soung) and set its value to the track number\n",
    "        new_node = Node(new_value)\n",
    "        #set this new node to the Head position\n",
    "        new_node.next = self.head\n",
    "        self.head = new_node\n",
    "    \n",
    "    #create insertAfter method to add a node after a certain previous node we specify\n",
    "    def insertAfter(self,prev_node,new_value):\n",
    "        # check to see if the previous node we specify exists\n",
    "        if prev_node is None:\n",
    "            print(\"The given previous node must not be empty!\")\n",
    "            return\n",
    "        # if the previous node does exist, create a new node for the song you want to insert\n",
    "        new_node = Node(new_value)\n",
    "        # Update the new node to point to the node that the prevous node was pointed to \n",
    "        new_node.next = prev_node.next\n",
    "        # Update the previous node to point to the new node's value\n",
    "        prev_node.next = new_node\n",
    "    \n",
    "    # add a method called append which will add a node to the end of the linked list\n",
    "    def append(self,new_value):\n",
    "        # create a new node (song) and give it a value (track listing)\n",
    "        new_node = Node(new_value)\n",
    "        #Check if the LinkedList is empty\n",
    "        #And if it is, make THIS new node the head node(beginning of the list)\n",
    "        if self.head is None:\n",
    "            self.head = new_node\n",
    "        # BUT if the list is NOT empty\n",
    "        # use a while loop to traverse to the end\n",
    "        # and add the NEW value to the end of the list\n",
    "        # start be setting \"last\" equal to the Head, this is like saying \"lets start at the head and traverse away from it\"\n",
    "        last = self.head\n",
    "        # check to see if there's a node after the current one\n",
    "        # continue to loop until we find a None value\n",
    "        while(last.next):\n",
    "            last = last.next\n",
    "        # Change current last node value to point to the NEW last node value\n",
    "        last.next = new_node\n",
    "        \n",
    "    # define a method traverse which starts at the head and moves thru all the nodes in order\n",
    "    def traverse(self):\n",
    "        temp = self.head\n",
    "        # while temp is NOT None -> keep looping through the links until you reach a None Value\n",
    "        while(temp):\n",
    "            print(f\"Track Number: {temp.value}\")\n",
    "            temp = temp.next\n",
    "            \n",
    "                  \n",
    "    def shuffle(self):\n",
    "        #will use random to create list of random intergers 0 - len(track_list)\n",
    "        import random\n",
    "        #set temp back to head node\n",
    "        temp = self.head\n",
    "        #count how many nodes there are in our linked list until we run out of nodes\n",
    "        count = 0\n",
    "        while(temp):\n",
    "            temp = temp.next\n",
    "            count += 1\n",
    "        #create list of intergers of node values\n",
    "        shuffle_order = list(range(0, count))\n",
    "        #use random to shuffle this list of intergers. This will be our new shuffle order\n",
    "        random.shuffle(shuffle_order)\n",
    "        print(f\"Shuffled order is: {shuffle_order}\")\n",
    "        temp = self.head\n",
    "        #now traverse thru each node and change its next value to equal the next value in the shuffled list\n",
    "        while(temp):\n",
    "            for num in shuffle_order:\n",
    "                print(temp)\n",
    "                temp.next = num\n",
    "                temp = temp.next\n",
    "        #now traverse again to print out each track in the new shuffle order\n",
    "        temp = self.head\n",
    "        while(temp):\n",
    "            print(f\"Shuffled Track Number: {temp.value}\")\n",
    "            temp = temp.next\n",
    "\n",
    "        \n",
    "#create a new instance of class LinkedList giving it the name track_list\n",
    "track_list = LinkedList()\n",
    "\n",
    "# add songs (nodes) to the track_list (LinkedList)\n",
    "# add track 1 to the head of the list\n",
    "track_list.pushOn(\"First song\")\n",
    "# add track 2 after track 1\n",
    "track_list.append(\"Second Song\")\n",
    "# add track 3 after track 2\n",
    "track_list.append(\"Third Song\")\n",
    "# add track 5 after track 3\n",
    "track_list.append(\"Fifth Song\")\n",
    "# uhoh, we forgot to add track 4 so lets insert it after track 3\n",
    "track_list.insertAfter(track_list.head.next.next, \"Fourth Sound\")\n",
    "# lets add track 6 after track 5\n",
    "track_list.append(\"Sixth Song\")\n",
    "# and tracks 7 thru 10\n",
    "track_list.append(\"Seventh Song\")\n",
    "track_list.append(\"Eighth Song\")\n",
    "track_list.append(\"Ninth Song\")\n",
    "track_list.append(\"Tenth Song\")\n",
    "# uhoh again! Our musican had decided to add a prologue track to the beginning\n",
    "# we will add it to the head and give it value zero\n",
    "track_list.pushOn(\"Prolog\")\n",
    "# now we can use the traverse function to iterate thru the nodes starting with the head\n",
    "# and print the output we specified in __str__\n",
    "track_list.traverse()\n",
    "track_list.shuffle()"
   ]
  },
  {
   "cell_type": "markdown",
   "metadata": {
    "id": "zuvXrB1YDYH8"
   },
   "source": [
    "#### Problem 2: Binary Search Tree\n",
    "\n",
    "Using the above examples as a guide, create your own interpretation of the a Binary Search Tree class. You can not use the code above exactly, but again it can be used as a guide. This problem requires you to think about how a Binary Search Tree works and create one using your own logic.\n",
    "\n",
    "*Remember* Binary Search Trees start with a head node and each node to the left of that will be smaller, each node to the right of it will be greater. The far left node should be the lowest number(if one exists) that is available. The far right node (if one exists) should be the greatest number"
   ]
  },
  {
   "cell_type": "code",
   "execution_count": 161,
   "metadata": {
    "id": "Pl2WflcKDYH8"
   },
   "outputs": [
    {
     "name": "stdout",
     "output_type": "stream",
     "text": [
      "250\n",
      "Yes there is at least one student with score 145\n",
      "Yes there is at least one student with score 136\n",
      "No student has a score of 300. This score is higher than all scores currently in the tree\n",
      "Number of students is 2\n",
      "Sum of all scores is 500\n",
      "The average Code Wars score is currently 250\n"
     ]
    }
   ],
   "source": [
    "#Kevin- my binary search tree holds Code Wars scores. \n",
    "#I added a new method called getAverage, but the count part isn't working\n",
    "#which iterates thru all nodes and calculates average score\n",
    "\n",
    "\n",
    "\n",
    "class CW():\n",
    "    def __init__(self,value):\n",
    "        # create first node with Codewars score for first student \n",
    "        self.value = value\n",
    "        # because its the first node, there are no other values to the left or right yet\n",
    "        self.left = None\n",
    "        self.right = None\n",
    "        \n",
    "    #add a new student's score as a new node\n",
    "    def insert(self,value):\n",
    "        #if the new value is less than existing value, go left\n",
    "        if value < self.value:\n",
    "            #if left is empty, set left value to the new value\n",
    "            if self.left is None:\n",
    "                self.left = CW(value)\n",
    "            #if left is not empty, start the Insert method again\n",
    "            else:\n",
    "                self.left.insert(value)\n",
    "        # if the new value is greater, go right\n",
    "        else:\n",
    "            #if there is nothing to the right, set the new value in that position\n",
    "            if self.right is None:\n",
    "                self.right = CW(value)\n",
    "            # if there is something to the right, start the Insert method over again until you find an empty spot\n",
    "            else:\n",
    "                self.right.insert(value)\n",
    "        return self\n",
    "    \n",
    "    # this method allows us to see if a certain score exists in the tree\n",
    "    def find(self,value):\n",
    "        #if the value we are searching for is less than self.value, go left\n",
    "        if value < self.value:\n",
    "            #if there's nothing to the left, the score is not in the tree\n",
    "            if self.left is None:\n",
    "                print(f\"No student has a score of {value}. This score lower than all scores currently in the tree\")\n",
    "            #if there is something to the left, re-run the Find method to keep searching\n",
    "            else:\n",
    "                return self.left.find(value)\n",
    "        #if value is higher, go right\n",
    "        elif value > self.value:\n",
    "            if self.right is None:\n",
    "                print(f\"No student has a score of {value}. This score is higher than all scores currently in the tree\")\n",
    "            # if there is a higher score to the right, re-run the find method to keep searching\n",
    "            else:\n",
    "                return self.right.find(value)\n",
    "        #if the value equals the current node, that means the score already exists in the tree\n",
    "        else:\n",
    "            print(f\"Yes there is at least one student with score {value}\")\n",
    " \n",
    "    def getAverage(self):\n",
    "        count = 0\n",
    "        current_sum = 0\n",
    "        #get value of all elements\n",
    "        #first go left until you hit the left edge\n",
    "        if self.left is None:\n",
    "            count += 1\n",
    "            current_sum = current_sum + self.value\n",
    "        else:\n",
    "            return self.left.getAverage()\n",
    "        #then go right\n",
    "        if self.right is None:\n",
    "            count +=1\n",
    "            current_sum = current_sum + self.value\n",
    "        else:\n",
    "            count += 1\n",
    "            return self.right.getAverage()\n",
    "        print(f\"Number of students is {count}\")\n",
    "        print(f\"Sum of all scores is {current_sum}\")\n",
    "        average = current_sum // count\n",
    "        print(f\"The average Code Wars score is currently {average}\")\n",
    "      \n",
    "    \n",
    "    def getMinValue(self):\n",
    "        if self.left is None:\n",
    "            return self.value\n",
    "        else:\n",
    "            return self.left.getMinValue()\n",
    "    \n",
    "    def getMaxValue(self):\n",
    "        if self.right is None:\n",
    "            return self.value\n",
    "        else:\n",
    "            return self.right.getMaxValue()\n",
    "        \n",
    "CW_example = CW(0)\n",
    "CW_example.insert(136)\n",
    "CW_example.insert(145)\n",
    "CW_example.insert(175)\n",
    "CW_example.insert(200)\n",
    "CW_example.insert(250)\n",
    "\n",
    "\n",
    "print(CW_example.getMaxValue())\n",
    "CW_example.find(145)\n",
    "#CW_example.remove()\n",
    "CW_example.find(136)\n",
    "CW_example.find(300)\n",
    "CW_example.getAverage()"
   ]
  },
  {
   "cell_type": "code",
   "execution_count": null,
   "metadata": {},
   "outputs": [],
   "source": []
  }
 ],
 "metadata": {
  "colab": {
   "name": "Time_Space_Complexity_Data_Structures.ipynb",
   "provenance": []
  },
  "kernelspec": {
   "display_name": "Python 3",
   "language": "python",
   "name": "python3"
  },
  "language_info": {
   "codemirror_mode": {
    "name": "ipython",
    "version": 3
   },
   "file_extension": ".py",
   "mimetype": "text/x-python",
   "name": "python",
   "nbconvert_exporter": "python",
   "pygments_lexer": "ipython3",
   "version": "3.8.3"
  }
 },
 "nbformat": 4,
 "nbformat_minor": 1
}
