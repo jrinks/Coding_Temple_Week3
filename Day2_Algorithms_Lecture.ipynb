{
 "cells": [
  {
   "cell_type": "markdown",
   "metadata": {
    "id": "1ULdb5AmqpzC"
   },
   "source": [
    "# Classic Algorithms"
   ]
  },
  {
   "cell_type": "code",
   "execution_count": 18,
   "metadata": {},
   "outputs": [
    {
     "name": "stdout",
     "output_type": "stream",
     "text": [
      "140\n",
      "140\n"
     ]
    }
   ],
   "source": [
    "# Given the following list of people in our class use the map function \n",
    "# to sum all the age of all the people in the class\n",
    "##NOTE: I do not know anyone ages or weights\n",
    "my_list=[\n",
    "    {\"Name\":\"Kevin\",\n",
    "    \"Age\":36,\n",
    "    \"Weight\":220\n",
    "    },\n",
    "    {\"Name\":\"Brian\",\n",
    "    \"Age\":27,\n",
    "    \"Weight\":190\n",
    "    },\n",
    "    {\"Name\":\"John\",\n",
    "    \"Age\":30,\n",
    "    \"Weight\":180\n",
    "    },\n",
    "    {\"Name\":\"Tony\",\n",
    "    \"Age\":23,\n",
    "    \"Weight\":150\n",
    "    },\n",
    "    {\"Name\":\"David\",\n",
    "    \"Age\":24,\n",
    "    \"Weight\":150\n",
    "    }\n",
    "]\n",
    "\n",
    "\n",
    "\n",
    "ages = sum(list(map(lambda x:  x.get(\"Age\") , my_list)))\n",
    "print(ages)\n",
    "\n",
    "#or \n",
    "# since a map object is iterable you don't have to change it to a list to iterate thru it\n",
    "ages = sum(map(lambda x:  x.get(\"Age\") , my_list))\n",
    "print(ages)\n",
    "\n"
   ]
  },
  {
   "cell_type": "markdown",
   "metadata": {
    "id": "Y41CUmgSqpzL"
   },
   "source": [
    "## Tasks Today:\n",
    " \n",
    "1) <b>In-Place Algorithms</b> <br>\n",
    " &nbsp;&nbsp;&nbsp;&nbsp; a) Syntax <br>\n",
    " &nbsp;&nbsp;&nbsp;&nbsp; a) Out of Place Algorithm <br>\n",
    " &nbsp;&nbsp;&nbsp;&nbsp; b) In-Class Exercise #1 <br>\n",
    "2) <b>Two Pointers</b> <br>\n",
    "3) <b>Sorting Algorithms</b> <br>\n",
    "4) <b>Merge Sort</b> <br>\n",
    " &nbsp;&nbsp;&nbsp;&nbsp; a) Video on Algorithms <br>\n",
    " &nbsp;&nbsp;&nbsp;&nbsp; b) How it Works <br>\n",
    "5) <b>Exercises</b> <br>\n",
    " &nbsp;&nbsp;&nbsp;&nbsp; a) Exercise #1 - Reverse a List in Place Using an In-Place Algorithm <br>\n",
    " &nbsp;&nbsp;&nbsp;&nbsp; b) Exercise #2 - Find Distinct Words <br>\n",
    " &nbsp;&nbsp;&nbsp;&nbsp; c) Exercise #3 - Write a program to implement a Linear Search Algorithm. <br>"
   ]
  },
  {
   "cell_type": "markdown",
   "metadata": {
    "id": "OJZJ7zhqqpzN"
   },
   "source": [
    "## In-Place Algorithms"
   ]
  },
  {
   "cell_type": "markdown",
   "metadata": {
    "id": "_ONZJx6MqpzO"
   },
   "source": [
    "#### Syntax"
   ]
  },
  {
   "cell_type": "markdown",
   "metadata": {
    "id": "WLj9KjwqqpzP"
   },
   "source": [
    "<!-- Complexity:   \n",
    "How well an algo runs in time and space\n",
    "\"Big O Complexity\"\n",
    "X axis is Elements we have\n",
    "Y axis is Operations that need to be done\n",
    "\"contant time\" is defined as O(1) \"o of one\" meaning we don't have to iterate thru anything and this is really fast\n",
    "\"Linear time\" 0(n) \"oof N\" means we have to iterate thru something of indeterminate length. This is really slow\n",
    "O(n**2) is the complexity of a nested for loop... its exponential,. \n",
    "Big O visualization: \n",
    "https://www.bigocheatsheet.com/\n",
    "-->"
   ]
  },
  {
   "cell_type": "code",
   "execution_count": 22,
   "metadata": {},
   "outputs": [
    {
     "name": "stdout",
     "output_type": "stream",
     "text": [
      "1\n",
      "[3, 2, 3]\n"
     ]
    }
   ],
   "source": [
    "# In Place Algo's\n",
    "# moving or changing items in place\n",
    "# as opposed to creating a new copy of the item\n",
    "# in place means less memory usages\n",
    "c, a, b = 1, 2, 3\n",
    "print(c)\n",
    "\n",
    "# a swap algo\n",
    "# var[i], var[j] = var[j], var[i]\n",
    "\n",
    "def swap(alist, x,y,z):\n",
    "    alist[x]=alist[z]\n",
    "    return alist\n",
    "\n",
    "my_list = [1, 5, 10]\n",
    "swap(my_list, 0, 1, 2)\n",
    "\n",
    "my_list2 = [1, 2, 3]\n",
    "my_list2[0] = my_list2[2]\n",
    "my_list2[2] = my_list2[0]\n",
    "print(my_list2)\n",
    "\n",
    "\n"
   ]
  },
  {
   "cell_type": "markdown",
   "metadata": {
    "id": "XTKYMSnhqpzQ"
   },
   "source": [
    "#### Out of Place Algorithm"
   ]
  },
  {
   "cell_type": "code",
   "execution_count": 29,
   "metadata": {
    "id": "qD-DZOpIqpzR"
   },
   "outputs": [
    {
     "name": "stdout",
     "output_type": "stream",
     "text": [
      "[10, 5, 10]\n",
      "[10, 5, 100]\n",
      " before swap ['a', 'b', 'c', 'd']\n",
      "3\n",
      "['c', 'c', 'c', '']\n"
     ]
    }
   ],
   "source": [
    "# this is not a swap\n",
    "# this completely reverses a list\n",
    "# and copies it to a different place in memory\n",
    "# definition of algorithms - solving a problem in a systematic way\n",
    "my_list_copy = my_list[::-1]\n",
    "my_list_copy[2] = 100\n",
    "print(my_list)\n",
    "print(my_list_copy)\n",
    "\n",
    "# here's the long form way to do it\n",
    "list_a = [\"a\", \"b\", \"c\", \"d\"]\n",
    "new_list_a = [\"\"] * len(list_a)\n",
    "print(f\" before swap {list_a}\")\n",
    "length_minus_1 = len(list_a) -1\n",
    "print(length_minus_1)\n",
    "for i in range (length_minus_1):\n",
    "    new_list_a[i] = list_a[length_minus_1 -1]\n",
    "print(new_list_a)"
   ]
  },
  {
   "cell_type": "markdown",
   "metadata": {
    "id": "V8ObLFziqpzR"
   },
   "source": [
    "#### In-Class Exercise #1 <br>\n",
    "<p>Write a function that takes in four arguments (list, index1, index2, index3), and swaps those three positions in the list passed in.</p>"
   ]
  },
  {
   "cell_type": "code",
   "execution_count": 40,
   "metadata": {
    "id": "nmUYRsysqpzR"
   },
   "outputs": [
    {
     "data": {
      "text/plain": [
       "[3, 10, 4, 8, 4, 2, 6]"
      ]
     },
     "execution_count": 40,
     "metadata": {},
     "output_type": "execute_result"
    }
   ],
   "source": [
    "l_1 = [10, 4, 3, 8, 4, 2, 6]\n",
    "\n",
    "def swap(l_1, x,y,z):\n",
    "    # keep in mind that if you only assign l_1[x] that is the only \n",
    "    # one that will change\n",
    "    #l_1[x] = l_1[y]\n",
    "    l_1[x], l_1[y], l_1[z] =l_1[z], l_1[x], l_1[y]\n",
    "    return l_1\n",
    "\n",
    "\n",
    "swap(l_1, 0, 1, 2)\n",
    "\n",
    "# https://stackoverflow.com/questions/8587236/how-does-variable-swapping-work-internally\n"
   ]
  },
  {
   "cell_type": "markdown",
   "metadata": {
    "id": "LcfpAORlqpzT"
   },
   "source": [
    "## Two Pointers"
   ]
  },
  {
   "cell_type": "markdown",
   "metadata": {
    "id": "5Wm2iW2nqpzU"
   },
   "source": [
    "#### Syntax"
   ]
  },
  {
   "cell_type": "code",
   "execution_count": 48,
   "metadata": {
    "id": "JqNmtYJlqpzV"
   },
   "outputs": [
    {
     "name": "stdout",
     "output_type": "stream",
     "text": [
      "[1, 4, 8, 3, 9, 10, 39, 23, 74]\n"
     ]
    },
    {
     "data": {
      "text/plain": [
       "[74, 23, 39, 10, 9, 3, 8, 4, 1]"
      ]
     },
     "execution_count": 48,
     "metadata": {},
     "output_type": "execute_result"
    }
   ],
   "source": [
    "# set up a left and right pointer\n",
    "# we are going to set two variables that will \"point\" to what we want to do\n",
    "# we will point to our leftmost index to our rightmost and swap them\n",
    "# then secondmost leftmost with secondmost rightmost\n",
    "# then 3rd from the right and 3rd from the left\n",
    "# and so on \n",
    "# until convergance \n",
    "\n",
    "\n",
    "#alist[left], alist[right] = alist[right], alist[left]\n",
    "#use two pointer to swap , can use a while loop\n",
    "\n",
    "def two_point_swap(alist):\n",
    "    #create pointers based on the list\n",
    "    left = 0 # far left index \n",
    "    right = (len(alist) -1) # far right pointer\n",
    "    #swap half the list, not the entire left\n",
    "    # don't use a for loop\n",
    "    # because it would run thru the entirre list\n",
    "    while left <= right:\n",
    "        alist[left], alist[right] = alist[right], alist[left]\n",
    "        #move one index in from the list\n",
    "        left += 1\n",
    "        #move one index in from the right\n",
    "        right -= 1\n",
    "    return alist\n",
    "    print(alist)\n",
    "\n",
    "\n",
    "my_test_list = [1, 4, 8, 3, 9, 10, 39, 23, 74]\n",
    "print(my_test_list)\n",
    "two_point_swap(my_test_list)"
   ]
  },
  {
   "cell_type": "markdown",
   "metadata": {
    "id": "2ODyksEKqpzW"
   },
   "source": [
    "#### Video of Algorithms <br>\n",
    "<p>Watch the video about algorithms.</p>\n",
    "\n",
    "https://www.youtube.com/watch?v=Q9HjeFD62Uk\n",
    "\n",
    "https://www.youtube.com/watch?v=kPRA0W1kECg\n",
    "\n",
    "https://www.youtube.com/watch?v=ZZuD6iUe3Pc"
   ]
  },
  {
   "cell_type": "markdown",
   "metadata": {
    "id": "l3Bsw1d_qpzW"
   },
   "source": [
    "# Sorting Algorithms"
   ]
  },
  {
   "cell_type": "code",
   "execution_count": null,
   "metadata": {
    "id": "OTT7voLjqpzW"
   },
   "outputs": [],
   "source": []
  },
  {
   "cell_type": "markdown",
   "metadata": {
    "id": "dbBWMihZqpzX"
   },
   "source": [
    "#### Bubble Sort\n",
    "\n",
    "\n",
    "Worst Case: O(n^2) Time - O(1) Space\n",
    "Best case: O(n) which would be the case if the list was already sorted before we sort"
   ]
  },
  {
   "cell_type": "code",
   "execution_count": null,
   "metadata": {
    "id": "T7AUbUKaqpzX"
   },
   "outputs": [],
   "source": [
    "# optimizes for space (but performs poorly on time)\n",
    "# the largest values will bubble up to the \"top\" or \"end\" of the list\n",
    "# compare two indicies and swap the larger value to the right \n",
    "# comparing it with the next item until raaching the right\n",
    "# the largest values in the list end up at tne end of the list\n",
    "\n",
    "# create a helper function\n",
    "\n",
    "def swap(alist, a, b):\n",
    "    alist[a], alist[b] = alist[b], alist[a]\n",
    "    \n",
    "#define bubble sort function\n",
    "def subble_sort(alist):\n",
    "    # check to make sure list is not already sorted\n",
    "    is_sorted = False\n",
    "    # while the list is unsorted continue the loop\n",
    "    while not is_sorted:\n",
    "        # set the is_sorted to True\n",
    "        is_sorted = True\n",
    "        # loop thru list based on index\n",
    "        for idx in range(len(alist)-1):\n",
    "            # if element at index is larger than element at index +1, swap them\n",
    "            if alist[idx] > alist[idx+1]:\n",
    "                #swap\n",
    "                swap(alist, idx, ixs+1)\n",
    "            \n",
    "        \n",
    "\n",
    "#     maybe a clearer example of bubble sort\n",
    "\n",
    "# def bubbleSort(arr):\n",
    "#     n = len(arr)\n",
    "#     # Traverse through all array elements\n",
    "#     for i in range(n-1):\n",
    "#         # range(n) also work but outer loop will repeat one time more than needed.\n",
    "#         # Last i elements are already in place\n",
    "#         for j in range(0, n-i-1):\n",
    "#             # traverse the array from 0 to n-i-1\n",
    "#             # Swap if the element found is greater\n",
    "#             # than the next element\n",
    "#             if arr[j] > arr[j+1]:\n",
    "#                 arr[j], arr[j+1] = arr[j+1], arr[j]"
   ]
  },
  {
   "cell_type": "markdown",
   "metadata": {
    "id": "Q3wV3u7dqpzX"
   },
   "source": [
    "##### Insertion Sort\n",
    "\n",
    "Worst Case: O(n^2) time - O(1)space"
   ]
  },
  {
   "cell_type": "code",
   "execution_count": 56,
   "metadata": {
    "id": "uDm6RQHcqpzY"
   },
   "outputs": [
    {
     "data": {
      "text/plain": [
       "[10, 11, 22, 33, 77, 99]"
      ]
     },
     "execution_count": 56,
     "metadata": {},
     "output_type": "execute_result"
    }
   ],
   "source": [
    "# in place algo so space comlexity is constant\n",
    "# takes an item and compares it to all items on the left to figure out where it goes\n",
    "\n",
    "\n",
    "\n",
    "def insertion_sort(alist2):\n",
    "    # we start at index 1 because we assume index 0 is sorted because we will assess it later\n",
    "    for i in range(1,len(alist2)):\n",
    "        # j is the index of the think we're moving\n",
    "        j = i\n",
    "        while j > 0 and alist2[j] < alist2[j-1]:\n",
    "            # while j is less than the item to its left, move it to the left\n",
    "            alist2[j], alist2[j-1] = alist2[j-1], alist2[j]\n",
    "            j -= 1\n",
    "    return alist2\n",
    "\n",
    "alist2 = [77, 22, 33, 10, 99, 11]        \n",
    "insertion_sort(alist2)\n",
    "            \n",
    "        "
   ]
  },
  {
   "cell_type": "markdown",
   "metadata": {
    "id": "Br--_HDZqpzY"
   },
   "source": [
    "## Merge Sort\n"
   ]
  },
  {
   "cell_type": "markdown",
   "metadata": {
    "id": "H13qjCDSqpzZ"
   },
   "source": [
    "#### How it Works"
   ]
  },
  {
   "cell_type": "code",
   "execution_count": 69,
   "metadata": {
    "id": "xRojrmhyqpzZ"
   },
   "outputs": [
    {
     "name": "stdout",
     "output_type": "stream",
     "text": [
      "splitting... [2, 5, 3, 4, 6, 1]\n",
      "splitting... [2, 5, 3]\n",
      "splitting... [2]\n",
      "merging... [2]\n",
      "splitting... [5, 3]\n",
      "splitting... [5]\n",
      "merging... [5]\n",
      "splitting... [3]\n",
      "merging... [3]\n",
      "merging... [3, 3]\n",
      "merging... [2, 5, 3]\n",
      "splitting... [4, 6, 1]\n",
      "splitting... [4]\n",
      "merging... [4]\n",
      "splitting... [6, 1]\n",
      "splitting... [6]\n",
      "merging... [6]\n",
      "splitting... [1]\n",
      "merging... [1]\n",
      "merging... [1, 1]\n",
      "merging... [1, 1, 1]\n",
      "merging... [1, 1, 1, 4, 6, 1]\n",
      "[1, 1, 1, 4, 6, 1]\n"
     ]
    }
   ],
   "source": [
    "from random import randint\n",
    "# both bubble and insertion are really bad on time but good on space\n",
    "# merge sort is a recursive function\n",
    "# merge sort takes a list and breaks it down into groups of len=1\n",
    "# continue to split it in half until you get to one item (which can't be split further)\n",
    "# then compare item 1 in each list and item 2, sort them\n",
    "# do this for all pairs until you have pairs of sorted values\n",
    "# then compare left 0 with right 0 then with right 1.\n",
    "# then it merges it all together putting it in sorted order\n",
    "# or something.....\n",
    "\n",
    "# Step 1 split everything into its own group (left and right) down to len=1\n",
    "# Step 2 from left to right, merge two groups together\n",
    "# Step 3 While merging, place each item in the correct position in merges group\n",
    "# step 4 continue step 3 and 4 until you're back to one full list\n",
    "\n",
    "def merge_sort(alist):\n",
    "    print(\"splitting...\", alist)\n",
    "    # step 1 divide array inot equal parts\n",
    "    if len(alist) > 1:\n",
    "        # find the midpoint\n",
    "        # use floor division because you want whole number result\n",
    "        mid = len(alist)//2\n",
    "        # splits list into left and right half\n",
    "        lefthalf = alist[:mid]\n",
    "        righthalf = alist[mid:]\n",
    "        # now recursivly call merge_sort() until everything is broeken down into pairs\n",
    "        merge_sort(lefthalf)\n",
    "        merge_sort(righthalf)\n",
    "        # index pointers for our list\n",
    "        a = 0 # pointer for left half\n",
    "        b = 0 # pointer for right half\n",
    "        k = 0 # pointer for main array\n",
    "        \n",
    "        # step 2 compare the left half and right half\n",
    "        # and place smaller value in main array at index k\n",
    "        while a < len(lefthalf) and b < len(righthalf):\n",
    "            if lefthalf[a] < righthalf[b]:\n",
    "                alist[k]= lefthalf[a]\n",
    "                # if you take something from the left side, increase that index by 1 for next tmie we come around\n",
    "                a += 1\n",
    "            else:\n",
    "                alist[k] = righthalf[b]\n",
    "                # if you take something from the right, increase right index by 1 for next time we come around\n",
    "                b +=1\n",
    "            # always incrase pointer for main array by 1 each time we loop\n",
    "            k+=1\n",
    "        # step 2b once one side is done, add other side tomain array\n",
    "        while a< len(lefthalf):\n",
    "            alist[k] + lefthalf[a]\n",
    "            a += 1\n",
    "            k += 1\n",
    "        while b< len(righthalf):\n",
    "            alist[k] + righthalf[b]\n",
    "            b += 1\n",
    "            k += 1\n",
    "            \n",
    "            \n",
    "    print(\"merging...\",alist)\n",
    "    return alist\n",
    "\n",
    "print(merge_sort([2, 5, 3, 4, 6, 1]))\n",
    "\n",
    "\n",
    "# brians code is below\n",
    "# # Step 1: Split everything into it's own group (left and right - down to len==1)\n",
    "# # Step 2: From left to right, merge two groups together\n",
    "# # Step 3: While merging, place each item in the correct position in merged group (compare low index of left v right)\n",
    "# # Step 4: Continue step 3-4 until one group is left# write merge sort function\n",
    "# def merge_sort(alist):\n",
    "#     print(\"Splitting...\", alist)\n",
    "#     # Step 1: divide array into equal parts \n",
    "#     if len(alist) > 1:\n",
    "#         mid = len(alist) // 2\n",
    "#         lefthalf = alist[:mid]\n",
    "#         righthalf = alist[mid:]        # recursively call merge_sort to preform splits if needed\n",
    "#         merge_sort(lefthalf)\n",
    "#         merge_sort(righthalf)\n",
    "#         # then merge once splits are done        # index pointers for our list\n",
    "#         a = 0 # pointer for left half\n",
    "#         b = 0 # pointer for right half\n",
    "#         k = 0 # pointer for main array        # Step 2a: Compare the left half and right half and place smaller value in main array\n",
    "#         while a < len(lefthalf) and b < len(righthalf):\n",
    "#             if lefthalf[a] < righthalf[b]:\n",
    "#                 # Step 3\n",
    "#                 alist[k] = lefthalf[a]\n",
    "#                 a += 1\n",
    "#             else:\n",
    "#                 # Step 3\n",
    "#                 alist[k] = righthalf[b]\n",
    "#                 b += 1\n",
    "#             k += 1\n",
    "#         # Step 2b: Once one side is done, add other side to main array\n",
    "#         while a < len(lefthalf):\n",
    "#             alist[k] = lefthalf[a]\n",
    "#             a += 1\n",
    "#             k += 1\n",
    "#         while b < len(righthalf):\n",
    "#             alist[k] = righthalf[b]\n",
    "#             b += 1\n",
    "#             k += 1    print('Merging...', alist)\n",
    "#     return alist\n",
    "                         \n",
    "        \n",
    "    \n"
   ]
  },
  {
   "cell_type": "markdown",
   "metadata": {
    "id": "R__d8VmMqpzZ"
   },
   "source": [
    "# Binary Search\n",
    "\n",
    "The Binary Search algorithm works by finding the number in the middle of a given array and comparing it to the target. Given that the array is sorted\n",
    "\n",
    "* The worst case run time for this algorithm is `O(log(n))`"
   ]
  },
  {
   "cell_type": "code",
   "execution_count": 75,
   "metadata": {
    "id": "Oc-4h-0kqpzZ"
   },
   "outputs": [
    {
     "data": {
      "text/plain": [
       "'the index for 88 is: 6'"
      ]
     },
     "execution_count": 75,
     "metadata": {},
     "output_type": "execute_result"
    }
   ],
   "source": [
    "# binary is not a shorting function, although it does compare values at index points\n",
    "# and returns index of where the match exists\n",
    "# a linear search will search every item in a list from beginning until it finds the one it needs\n",
    "# a binary search is different because \n",
    "# it splits the array in half (assuming the array is sorted)\n",
    "# it starts by finding the low index and the high index\n",
    "# divide that by 2 and you get the mid point\n",
    "# now evaluate if the midpoint is your value\n",
    "# if not, find out if your value is higher (to the right) or lower( to the left) of your midpoint\n",
    "# if its highter, move one index to the right and check values\n",
    "# if lower, move index one to the left and check if values match\n",
    "# keep going until you find a match\n",
    "\n",
    "# binary search takes in a list and a target\n",
    "\n",
    "def binary_search(alist, target):\n",
    "    low= 0\n",
    "    high = len(alist)\n",
    "    while low <= high:\n",
    "        mid =(low+high)//2\n",
    "        potential_match = alist[mid]\n",
    "        if target == potential_match:\n",
    "            return f\"the index for {target} is: {mid}\"\n",
    "        elif target < potential_match:\n",
    "            high = mid -1\n",
    "        else:\n",
    "            low = mid + 1\n",
    "    # if you don't find any matches return -1\n",
    "    return -1\n",
    "\n",
    "binary_search([22, 33, 44, 55, 66, 77, 88, 99], 88)"
   ]
  },
  {
   "cell_type": "markdown",
   "metadata": {
    "id": "xVTFlTW3qpza"
   },
   "source": [
    "# Exercises"
   ]
  },
  {
   "cell_type": "markdown",
   "metadata": {
    "id": "6DZdSWQXqpza"
   },
   "source": [
    "### Exercise #1 <br>\n",
    "<p>Reverse the list below in-place using an in-place algorithm.<br>For extra credit: Reverse the strings at the same time.</p>"
   ]
  },
  {
   "cell_type": "code",
   "execution_count": 253,
   "metadata": {
    "id": "XFpf6PLnqpzb"
   },
   "outputs": [
    {
     "name": "stdout",
     "output_type": "stream",
     "text": [
      "using swap:  ['.', 'sentence', 'a', 'is', 'this']\n",
      "using two point swap ['.', 'sentence', 'a', 'is', 'this']\n",
      "Reverse letters and words;  ['.', 'ecnetnes', 'a', 'si', 'siht']\n"
     ]
    }
   ],
   "source": [
    "words = ['this' , 'is', 'a', 'sentence', '.']\n",
    "\n",
    "# using single point swap\n",
    "\n",
    "def swap(alist, a,b,c,d,e):\n",
    "    alist[a], alist[b], alist[c], alist[d], alist[e] = alist[e], alist[d],alist[c], alist[b], alist[a]\n",
    "    print(\"using swap: \", alist)\n",
    "\n",
    "swap(words, 0, 1, 2, 3, 4)\n",
    "\n",
    "\n",
    "\n",
    "# OR using a two point swap method like this\n",
    "\n",
    "def two_point_swap(alist):\n",
    "    #create pointers based on the list\n",
    "    left = 0 # far left index \n",
    "    right = (len(alist) -1) # far right pointer\n",
    "    while left <= right:\n",
    "        alist[left], alist[right] = alist[right], alist[left]\n",
    "        #move one index in from the list\n",
    "        left += 1\n",
    "        #move one index in from the right\n",
    "        right -= 1\n",
    "    print(\"using two point swap\", alist)\n",
    "\n",
    "two_point_swap(['this' , 'is', 'a', 'sentence', '.'])\n",
    "\n",
    "# reverse the letters and the words\n",
    "# this is an ugly solution but it works\n",
    "\n",
    "def two_point_swap_words(alist):\n",
    "    new_list = []\n",
    "    #create pointers based on the list\n",
    "    left = 0 # far left index \n",
    "    right = (len(alist) -1) # far right pointer\n",
    "    while left <= right:\n",
    "        alist[left], alist[right] = alist[right], alist[left]\n",
    "        #move one index in from the list\n",
    "        left += 1\n",
    "        #move one index in from the right\n",
    "        right -= 1\n",
    "    for word in alist:\n",
    "        word = word[::-1]\n",
    "        new_list.append(word)\n",
    "    print(\"Reverse letters and words; \", new_list)\n",
    "\n",
    "two_point_swap_words(['this' , 'is', 'a', 'sentence', '.'])\n"
   ]
  },
  {
   "cell_type": "markdown",
   "metadata": {
    "id": "9tj3ySigqpzb"
   },
   "source": [
    "### Exercise #2 <br>\n",
    "<p>Create a function that counts how many distinct words are in the string below, then outputs a dictionary with the words as the key and the value as the amount of times that word appears in the string.<br>Should output:<br>{'a': 5,<br>\n",
    " 'abstract': 1,<br>\n",
    " 'an': 3,<br>\n",
    " 'array': 2, ... etc...</p>"
   ]
  },
  {
   "cell_type": "code",
   "execution_count": 301,
   "metadata": {
    "id": "a-BHorckqpzb"
   },
   "outputs": [
    {
     "name": "stdout",
     "output_type": "stream",
     "text": [
      "{'a': 5, 'abstract': 1, 'an': 3, 'array': 2, 'associative': 1, 'be': 1, 'buckets': 1, 'can': 2, 'compute': 1, 'computing,': 1, 'data': 2, 'desired': 1, 'found': 1, 'from': 1, 'function': 1, 'hash': 4, 'implements': 1, 'in': 1, 'index': 1, 'into': 1, 'is': 1, 'keys': 1, 'map': 2, 'of': 1, 'or': 1, 'slots': 1, 'structure': 2, 'table': 2, 'that': 1, 'the': 1, 'to': 2, 'type,': 1, 'uses': 1, 'value': 1, 'values.': 1, 'which': 2}\n"
     ]
    }
   ],
   "source": [
    "a_text = 'In computing, a hash table hash map is a data structure which implements an associative array abstract data type, a structure that can map keys to values. A hash table uses a hash function to compute an index into an array of buckets or slots from which the desired value can be found'\n",
    "# split into words\n",
    "split_text = a_text.split()\n",
    "# make all letters lowercase\n",
    "lower_text = list(map( lambda word: word.lower() , split_text))\n",
    "# sort the list\n",
    "lower_text = sorted(lower_text)\n",
    "#print(lower_text)\n",
    "# get rid of duplicate values\n",
    "uniques = []\n",
    "for i in lower_text:\n",
    "    if i not in uniques:\n",
    "        uniques.append(i)\n",
    "#print(uniques)\n",
    "# convert the list of uniques to a dictionary\n",
    "dict = {}\n",
    "dict = text_dict.fromkeys(uniques, 0)\n",
    "#print(dict)\n",
    "# for each word (aka Key), count how many times that word appears in a_text and assign number\n",
    "# as the value for that Key\n",
    "# count on lower_text not a_text because a_text counts letters not whole words\n",
    "for key,value in dict.items():\n",
    "    dict[key] = lower_text.count(key)\n",
    "print(dict)\n",
    "\n"
   ]
  },
  {
   "cell_type": "markdown",
   "metadata": {
    "id": "ShV3rpGMqpzc"
   },
   "source": [
    "## Exercise #3\n",
    "\n",
    "Write a program to implement a Linear Search Algorithm. Also in a comment, write the Time Complexity of the following algorithm.\n",
    "\n",
    "#### Hint: Linear Searching will require searching a list for a given number. "
   ]
  },
  {
   "cell_type": "code",
   "execution_count": 257,
   "metadata": {
    "id": "1UyyPF1Bqpzc"
   },
   "outputs": [
    {
     "name": "stdout",
     "output_type": "stream",
     "text": [
      "99 is located at index: 4\n"
     ]
    }
   ],
   "source": [
    "# right a linear search\n",
    "# we did not learn this but you can figure it out\n",
    "# google linear search and how to do it in python\n",
    "# write a comment for the time complexity of the algorythm you make\n",
    "\n",
    "\n",
    "def linear_search(list, x):\n",
    "    for i in range(len(list)):\n",
    "        if list[i] == x:\n",
    "            print(f\"{x} is located at index: {i}\")\n",
    "\n",
    "alist2 = [77, 22, 33, 10, 99, 11]\n",
    "linear_search(alist2, 99)\n",
    "\n",
    "# linear search functions move thru an object one item at a time\n",
    "# this means that they don't use a lot of memory\n",
    "# but they are not time-efficient\n",
    "# the time complexity is directly related to how many items are in the object and therefore\n",
    "# how many comparisions the algo must perform. The more items, the longer time it will take\n",
    "# worst case complexity is 0(n) which would occur if the matching item is at the end of the list\n",
    "# meaning that the algo has to search thru every item before it finds a match\n",
    "# 0(n) is rated as fair to good on the Big O Complexity Chart"
   ]
  },
  {
   "cell_type": "code",
   "execution_count": null,
   "metadata": {},
   "outputs": [],
   "source": []
  }
 ],
 "metadata": {
  "colab": {
   "name": "Day2_Algorithms_Lecture.ipynb",
   "provenance": []
  },
  "kernelspec": {
   "display_name": "Python 3",
   "language": "python",
   "name": "python3"
  },
  "language_info": {
   "codemirror_mode": {
    "name": "ipython",
    "version": 3
   },
   "file_extension": ".py",
   "mimetype": "text/x-python",
   "name": "python",
   "nbconvert_exporter": "python",
   "pygments_lexer": "ipython3",
   "version": "3.8.3"
  }
 },
 "nbformat": 4,
 "nbformat_minor": 1
}
